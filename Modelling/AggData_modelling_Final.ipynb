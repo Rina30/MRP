{
 "cells": [
  {
   "cell_type": "code",
   "execution_count": 1,
   "metadata": {},
   "outputs": [
    {
     "name": "stderr",
     "output_type": "stream",
     "text": [
      "Error importing optional module geopandas\n",
      "Traceback (most recent call last):\n",
      "  File \"/opt/anaconda3/lib/python3.7/site-packages/_plotly_utils/optional_imports.py\", line 28, in get_module\n",
      "    return import_module(name)\n",
      "  File \"/opt/anaconda3/lib/python3.7/importlib/__init__.py\", line 127, in import_module\n",
      "    return _bootstrap._gcd_import(name[level:], package, level)\n",
      "  File \"<frozen importlib._bootstrap>\", line 1006, in _gcd_import\n",
      "  File \"<frozen importlib._bootstrap>\", line 983, in _find_and_load\n",
      "  File \"<frozen importlib._bootstrap>\", line 967, in _find_and_load_unlocked\n",
      "  File \"<frozen importlib._bootstrap>\", line 677, in _load_unlocked\n",
      "  File \"<frozen importlib._bootstrap_external>\", line 728, in exec_module\n",
      "  File \"<frozen importlib._bootstrap>\", line 219, in _call_with_frames_removed\n",
      "  File \"/opt/anaconda3/lib/python3.7/site-packages/geopandas/__init__.py\", line 1, in <module>\n",
      "    from geopandas.geoseries import GeoSeries  # noqa\n",
      "  File \"/opt/anaconda3/lib/python3.7/site-packages/geopandas/geoseries.py\", line 10, in <module>\n",
      "    from shapely.geometry.base import BaseGeometry\n",
      "  File \"/opt/anaconda3/lib/python3.7/site-packages/shapely/geometry/__init__.py\", line 4, in <module>\n",
      "    from .base import CAP_STYLE, JOIN_STYLE\n",
      "  File \"/opt/anaconda3/lib/python3.7/site-packages/shapely/geometry/base.py\", line 18, in <module>\n",
      "    from shapely.coords import CoordinateSequence\n",
      "  File \"/opt/anaconda3/lib/python3.7/site-packages/shapely/coords.py\", line 8, in <module>\n",
      "    from shapely.geos import lgeos\n",
      "  File \"/opt/anaconda3/lib/python3.7/site-packages/shapely/geos.py\", line 138, in <module>\n",
      "    free = load_dll('c').free\n",
      "  File \"/opt/anaconda3/lib/python3.7/site-packages/shapely/geos.py\", line 62, in load_dll\n",
      "    libname, fallbacks or []))\n",
      "OSError: Could not find lib c or load any of its variants [].\n"
     ]
    }
   ],
   "source": [
    "import numpy as np\n",
    "import pandas as pd\n",
    "from sklearn.model_selection import train_test_split\n",
    "from sklearn.metrics import accuracy_score\n",
    "from sklearn.metrics import confusion_matrix\n",
    "import plotly.figure_factory as ff\n",
    "import tensorflow as tf\n",
    "from tensorflow.python.keras.layers import Dense, Dropout, LSTM\n",
    "from tensorflow.python.keras import Sequential\n",
    "from tensorflow.keras.utils import to_categorical\n",
    "from sklearn.preprocessing import OrdinalEncoder\n",
    "from pandas import DataFrame\n",
    "from pandas import concat\n",
    "import matplotlib.pyplot as plt\n",
    "from sklearn.metrics import f1_score\n",
    "import seaborn as sns\n",
    "from sklearn import preprocessing\n",
    "from sklearn.preprocessing import StandardScaler\n",
    "from sklearn.utils import class_weight\n",
    "from sklearn.preprocessing import LabelEncoder\n",
    "from sklearn.preprocessing import MinMaxScaler\n",
    "import os\n",
    "import more_itertools as mit\n",
    "import missingno as msno"
   ]
  },
  {
   "cell_type": "code",
   "execution_count": null,
   "metadata": {},
   "outputs": [],
   "source": []
  },
  {
   "cell_type": "code",
   "execution_count": 2,
   "metadata": {},
   "outputs": [],
   "source": [
    "house_data = pd.read_csv(\"/Users/soniajoseph/Masters-DataScience/Major Research Project/mywork/agg_data.csv\")"
   ]
  },
  {
   "cell_type": "code",
   "execution_count": 3,
   "metadata": {},
   "outputs": [],
   "source": [
    "house_data = house_data.drop(house_data[house_data['auxHeat1'].isnull()].index.tolist())"
   ]
  },
  {
   "cell_type": "code",
   "execution_count": 4,
   "metadata": {},
   "outputs": [
    {
     "data": {
      "text/html": [
       "<div>\n",
       "<style scoped>\n",
       "    .dataframe tbody tr th:only-of-type {\n",
       "        vertical-align: middle;\n",
       "    }\n",
       "\n",
       "    .dataframe tbody tr th {\n",
       "        vertical-align: top;\n",
       "    }\n",
       "\n",
       "    .dataframe thead th {\n",
       "        text-align: right;\n",
       "    }\n",
       "</style>\n",
       "<table border=\"1\" class=\"dataframe\">\n",
       "  <thead>\n",
       "    <tr style=\"text-align: right;\">\n",
       "      <th></th>\n",
       "      <th>Month</th>\n",
       "      <th>Day</th>\n",
       "      <th>HourofDay</th>\n",
       "      <th>T_ctrl</th>\n",
       "      <th>T_stp_heat</th>\n",
       "      <th>T_out</th>\n",
       "      <th>RH_out</th>\n",
       "      <th>Humidity</th>\n",
       "      <th>fan</th>\n",
       "      <th>auxHeat1</th>\n",
       "    </tr>\n",
       "  </thead>\n",
       "  <tbody>\n",
       "    <tr>\n",
       "      <th>0</th>\n",
       "      <td>1</td>\n",
       "      <td>1</td>\n",
       "      <td>0</td>\n",
       "      <td>70.0</td>\n",
       "      <td>70.0</td>\n",
       "      <td>41.5</td>\n",
       "      <td>95.5</td>\n",
       "      <td>37.000000</td>\n",
       "      <td>200.0</td>\n",
       "      <td>960.0</td>\n",
       "    </tr>\n",
       "    <tr>\n",
       "      <th>1</th>\n",
       "      <td>1</td>\n",
       "      <td>1</td>\n",
       "      <td>1</td>\n",
       "      <td>70.0</td>\n",
       "      <td>70.0</td>\n",
       "      <td>42.0</td>\n",
       "      <td>94.0</td>\n",
       "      <td>37.000000</td>\n",
       "      <td>182.5</td>\n",
       "      <td>1065.0</td>\n",
       "    </tr>\n",
       "    <tr>\n",
       "      <th>2</th>\n",
       "      <td>1</td>\n",
       "      <td>1</td>\n",
       "      <td>2</td>\n",
       "      <td>70.0</td>\n",
       "      <td>70.0</td>\n",
       "      <td>41.5</td>\n",
       "      <td>92.5</td>\n",
       "      <td>37.333333</td>\n",
       "      <td>200.0</td>\n",
       "      <td>1575.0</td>\n",
       "    </tr>\n",
       "    <tr>\n",
       "      <th>3</th>\n",
       "      <td>1</td>\n",
       "      <td>1</td>\n",
       "      <td>3</td>\n",
       "      <td>70.0</td>\n",
       "      <td>70.0</td>\n",
       "      <td>38.5</td>\n",
       "      <td>89.5</td>\n",
       "      <td>37.000000</td>\n",
       "      <td>200.0</td>\n",
       "      <td>1440.0</td>\n",
       "    </tr>\n",
       "    <tr>\n",
       "      <th>4</th>\n",
       "      <td>1</td>\n",
       "      <td>1</td>\n",
       "      <td>4</td>\n",
       "      <td>70.0</td>\n",
       "      <td>70.0</td>\n",
       "      <td>35.0</td>\n",
       "      <td>86.0</td>\n",
       "      <td>37.083333</td>\n",
       "      <td>217.5</td>\n",
       "      <td>1680.0</td>\n",
       "    </tr>\n",
       "  </tbody>\n",
       "</table>\n",
       "</div>"
      ],
      "text/plain": [
       "   Month  Day  HourofDay  T_ctrl  T_stp_heat  T_out  RH_out   Humidity    fan  \\\n",
       "0      1    1          0    70.0        70.0   41.5    95.5  37.000000  200.0   \n",
       "1      1    1          1    70.0        70.0   42.0    94.0  37.000000  182.5   \n",
       "2      1    1          2    70.0        70.0   41.5    92.5  37.333333  200.0   \n",
       "3      1    1          3    70.0        70.0   38.5    89.5  37.000000  200.0   \n",
       "4      1    1          4    70.0        70.0   35.0    86.0  37.083333  217.5   \n",
       "\n",
       "   auxHeat1  \n",
       "0     960.0  \n",
       "1    1065.0  \n",
       "2    1575.0  \n",
       "3    1440.0  \n",
       "4    1680.0  "
      ]
     },
     "execution_count": 4,
     "metadata": {},
     "output_type": "execute_result"
    }
   ],
   "source": [
    "house_data.head()"
   ]
  },
  {
   "cell_type": "code",
   "execution_count": 5,
   "metadata": {},
   "outputs": [
    {
     "data": {
      "text/plain": [
       "Month         3442\n",
       "Day           3442\n",
       "HourofDay     3442\n",
       "T_ctrl        3442\n",
       "T_stp_heat    3442\n",
       "T_out         3442\n",
       "RH_out        3442\n",
       "Humidity      3442\n",
       "fan           3442\n",
       "auxHeat1      3442\n",
       "dtype: int64"
      ]
     },
     "execution_count": 5,
     "metadata": {},
     "output_type": "execute_result"
    }
   ],
   "source": [
    "house_data.count()"
   ]
  },
  {
   "cell_type": "code",
   "execution_count": 6,
   "metadata": {},
   "outputs": [
    {
     "data": {
      "text/plain": [
       "Index(['Month', 'Day', 'HourofDay', 'T_ctrl', 'T_stp_heat', 'T_out', 'RH_out',\n",
       "       'Humidity', 'fan', 'auxHeat1'],\n",
       "      dtype='object')"
      ]
     },
     "execution_count": 6,
     "metadata": {},
     "output_type": "execute_result"
    }
   ],
   "source": [
    "house_data.columns"
   ]
  },
  {
   "cell_type": "code",
   "execution_count": 7,
   "metadata": {},
   "outputs": [
    {
     "data": {
      "text/html": [
       "<div>\n",
       "<style scoped>\n",
       "    .dataframe tbody tr th:only-of-type {\n",
       "        vertical-align: middle;\n",
       "    }\n",
       "\n",
       "    .dataframe tbody tr th {\n",
       "        vertical-align: top;\n",
       "    }\n",
       "\n",
       "    .dataframe thead th {\n",
       "        text-align: right;\n",
       "    }\n",
       "</style>\n",
       "<table border=\"1\" class=\"dataframe\">\n",
       "  <thead>\n",
       "    <tr style=\"text-align: right;\">\n",
       "      <th></th>\n",
       "      <th>Month</th>\n",
       "      <th>Day</th>\n",
       "      <th>HourofDay</th>\n",
       "      <th>T_ctrl</th>\n",
       "      <th>T_stp_heat</th>\n",
       "      <th>T_out</th>\n",
       "      <th>RH_out</th>\n",
       "      <th>Humidity</th>\n",
       "      <th>fan</th>\n",
       "      <th>auxHeat1</th>\n",
       "    </tr>\n",
       "  </thead>\n",
       "  <tbody>\n",
       "    <tr>\n",
       "      <th>0</th>\n",
       "      <td>1</td>\n",
       "      <td>1</td>\n",
       "      <td>0</td>\n",
       "      <td>70.0</td>\n",
       "      <td>70.0</td>\n",
       "      <td>41.5</td>\n",
       "      <td>95.5</td>\n",
       "      <td>37.000000</td>\n",
       "      <td>200.0</td>\n",
       "      <td>960.0</td>\n",
       "    </tr>\n",
       "    <tr>\n",
       "      <th>1</th>\n",
       "      <td>1</td>\n",
       "      <td>1</td>\n",
       "      <td>1</td>\n",
       "      <td>70.0</td>\n",
       "      <td>70.0</td>\n",
       "      <td>42.0</td>\n",
       "      <td>94.0</td>\n",
       "      <td>37.000000</td>\n",
       "      <td>182.5</td>\n",
       "      <td>1065.0</td>\n",
       "    </tr>\n",
       "    <tr>\n",
       "      <th>2</th>\n",
       "      <td>1</td>\n",
       "      <td>1</td>\n",
       "      <td>2</td>\n",
       "      <td>70.0</td>\n",
       "      <td>70.0</td>\n",
       "      <td>41.5</td>\n",
       "      <td>92.5</td>\n",
       "      <td>37.333333</td>\n",
       "      <td>200.0</td>\n",
       "      <td>1575.0</td>\n",
       "    </tr>\n",
       "    <tr>\n",
       "      <th>3</th>\n",
       "      <td>1</td>\n",
       "      <td>1</td>\n",
       "      <td>3</td>\n",
       "      <td>70.0</td>\n",
       "      <td>70.0</td>\n",
       "      <td>38.5</td>\n",
       "      <td>89.5</td>\n",
       "      <td>37.000000</td>\n",
       "      <td>200.0</td>\n",
       "      <td>1440.0</td>\n",
       "    </tr>\n",
       "    <tr>\n",
       "      <th>4</th>\n",
       "      <td>1</td>\n",
       "      <td>1</td>\n",
       "      <td>4</td>\n",
       "      <td>70.0</td>\n",
       "      <td>70.0</td>\n",
       "      <td>35.0</td>\n",
       "      <td>86.0</td>\n",
       "      <td>37.083333</td>\n",
       "      <td>217.5</td>\n",
       "      <td>1680.0</td>\n",
       "    </tr>\n",
       "  </tbody>\n",
       "</table>\n",
       "</div>"
      ],
      "text/plain": [
       "   Month  Day  HourofDay  T_ctrl  T_stp_heat  T_out  RH_out   Humidity    fan  \\\n",
       "0      1    1          0    70.0        70.0   41.5    95.5  37.000000  200.0   \n",
       "1      1    1          1    70.0        70.0   42.0    94.0  37.000000  182.5   \n",
       "2      1    1          2    70.0        70.0   41.5    92.5  37.333333  200.0   \n",
       "3      1    1          3    70.0        70.0   38.5    89.5  37.000000  200.0   \n",
       "4      1    1          4    70.0        70.0   35.0    86.0  37.083333  217.5   \n",
       "\n",
       "   auxHeat1  \n",
       "0     960.0  \n",
       "1    1065.0  \n",
       "2    1575.0  \n",
       "3    1440.0  \n",
       "4    1680.0  "
      ]
     },
     "execution_count": 7,
     "metadata": {},
     "output_type": "execute_result"
    }
   ],
   "source": [
    "house_data.head()"
   ]
  },
  {
   "cell_type": "code",
   "execution_count": 8,
   "metadata": {},
   "outputs": [
    {
     "data": {
      "text/plain": [
       "array([ 1,  2,  3,  4, 10, 11, 12])"
      ]
     },
     "execution_count": 8,
     "metadata": {},
     "output_type": "execute_result"
    }
   ],
   "source": [
    "house_data.Month.unique()"
   ]
  },
  {
   "cell_type": "code",
   "execution_count": 9,
   "metadata": {},
   "outputs": [
    {
     "data": {
      "text/plain": [
       "array([ 1,  2,  3,  4,  5,  6,  7,  8,  9, 10, 11, 12, 13, 14, 15, 16, 17,\n",
       "       18, 19, 20, 21, 22, 23, 24, 25, 26, 27, 28, 29, 30, 31])"
      ]
     },
     "execution_count": 9,
     "metadata": {},
     "output_type": "execute_result"
    }
   ],
   "source": [
    "house_data.Day.unique()"
   ]
  },
  {
   "cell_type": "code",
   "execution_count": 10,
   "metadata": {},
   "outputs": [
    {
     "data": {
      "text/plain": [
       "array([ 0,  1,  2,  3,  4,  5,  6,  7,  8,  9, 10, 11, 12, 13, 14, 15, 16,\n",
       "       17, 18, 19, 20, 21, 22, 23])"
      ]
     },
     "execution_count": 10,
     "metadata": {},
     "output_type": "execute_result"
    }
   ],
   "source": [
    "house_data.HourofDay.unique()"
   ]
  },
  {
   "cell_type": "code",
   "execution_count": 11,
   "metadata": {},
   "outputs": [
    {
     "data": {
      "text/plain": [
       "array([ 960., 1065., 1575., 1440., 1680., 1260., 1230., 1470., 1800.,\n",
       "       1200.,  735., 1350., 1080.,  630., 1380.,  945.,   75., 1530.,\n",
       "       1455., 1050., 1590., 1935., 2010., 2040., 2070., 2130., 2115.,\n",
       "       2790., 1545., 1395., 1305.,  750.,  855., 3120., 3600., 1605.,\n",
       "       1815.,  795., 3180., 1650., 1320., 2685., 1995., 1335., 1950.,\n",
       "       1125., 1365., 1710., 1635., 1425.,  840.,  720.,  525.,  480.,\n",
       "        345.,  495., 2445.,  975., 1170.,  300., 3000.,  825.,  765.,\n",
       "       1110., 1275.,  615., 2880., 3435.,   30.,  915.,   45.,  555.,\n",
       "       2640., 2085., 3585., 1875.,  990.,  900., 2430., 2835., 3225.,\n",
       "        180., 2745., 3330., 2925., 2205., 1410.,  675., 3510., 1485.,\n",
       "       3300., 1830., 1215., 1020.,  585., 1140.,  780., 1755., 1770.,\n",
       "        465., 1515., 3390., 2055., 1740., 1290., 3345., 1665., 3405.,\n",
       "       2145., 2100., 2715.,  105., 2265., 2340., 2370., 3030., 2550.,\n",
       "       2625., 3135., 3105., 3150., 3165., 2565., 2610., 1905.,  705.,\n",
       "       2025., 1965., 2175., 2190., 2280., 1890., 1845., 1560., 1920.,\n",
       "       2940., 2295., 2505., 2310., 3015., 2160., 2820., 1860., 1500.,\n",
       "       2385., 2235., 2595., 2400., 2355., 2655., 2535., 2250., 1980.,\n",
       "       1155., 1035.,  885., 2805.,  645., 1725., 3555., 2460., 1185.,\n",
       "       1785., 1695., 1620., 1095., 3075., 2700., 2985., 3480., 2760.,\n",
       "       2220., 2475.,  570., 3360., 2730., 2775., 2970., 2895., 2490.,\n",
       "       3465.,  690., 2910., 3210., 3240., 2325., 1245., 2955., 3495.,\n",
       "        225., 3420.,  390., 3045., 3270., 2850., 3195., 3060., 3090.,\n",
       "       2520.,  165.,  810.,  120.,  450.,  240.,  315.,  870.,  195.,\n",
       "        285.,  600.,  150.,  210.,  375.,  660.,  360., 2415.,   90.,\n",
       "       2670.,  930.,  540.,  330., 1005.,  435.,  510.,  255.,  405.,\n",
       "       4110., 4125.,  270., 5250.,   60.,  420., 3540.,   15.,  135.,\n",
       "       3525., 3285., 2580., 3315., 2865., 3375.])"
      ]
     },
     "execution_count": 11,
     "metadata": {},
     "output_type": "execute_result"
    }
   ],
   "source": [
    "house_data.auxHeat1.unique()\n"
   ]
  },
  {
   "cell_type": "code",
   "execution_count": 12,
   "metadata": {},
   "outputs": [
    {
     "data": {
      "text/plain": [
       "15.0"
      ]
     },
     "execution_count": 12,
     "metadata": {},
     "output_type": "execute_result"
    }
   ],
   "source": [
    "house_data.auxHeat1.min()"
   ]
  },
  {
   "cell_type": "code",
   "execution_count": 13,
   "metadata": {},
   "outputs": [
    {
     "data": {
      "text/plain": [
       "5250.0"
      ]
     },
     "execution_count": 13,
     "metadata": {},
     "output_type": "execute_result"
    }
   ],
   "source": [
    "house_data.auxHeat1.max()"
   ]
  },
  {
   "cell_type": "code",
   "execution_count": 14,
   "metadata": {},
   "outputs": [
    {
     "data": {
      "text/plain": [
       "Month         3442\n",
       "Day           3442\n",
       "HourofDay     3442\n",
       "T_ctrl        3442\n",
       "T_stp_heat    3442\n",
       "T_out         3442\n",
       "RH_out        3442\n",
       "Humidity      3442\n",
       "fan           3442\n",
       "auxHeat1      3442\n",
       "dtype: int64"
      ]
     },
     "execution_count": 14,
     "metadata": {},
     "output_type": "execute_result"
    }
   ],
   "source": [
    "house_data.count()"
   ]
  },
  {
   "cell_type": "code",
   "execution_count": 15,
   "metadata": {},
   "outputs": [
    {
     "data": {
      "text/plain": [
       "Month         3442\n",
       "Day           3442\n",
       "HourofDay     3442\n",
       "T_ctrl        3442\n",
       "T_stp_heat    3442\n",
       "T_out         3442\n",
       "RH_out        3442\n",
       "Humidity      3442\n",
       "fan           3442\n",
       "auxHeat1      3442\n",
       "dtype: int64"
      ]
     },
     "execution_count": 15,
     "metadata": {},
     "output_type": "execute_result"
    }
   ],
   "source": [
    "house_data.count()"
   ]
  },
  {
   "cell_type": "code",
   "execution_count": 16,
   "metadata": {},
   "outputs": [
    {
     "data": {
      "text/plain": [
       "[Text(0.5, 0, 'Target Variable Values')]"
      ]
     },
     "execution_count": 16,
     "metadata": {},
     "output_type": "execute_result"
    },
    {
     "data": {
      "image/png": "[encoded data removed]",
      "text/plain": [
       "<Figure size 1440x1080 with 1 Axes>"
      ]
     },
     "metadata": {
      "needs_background": "light"
     },
     "output_type": "display_data"
    }
   ],
   "source": [
    "plt.figure(figsize = (20, 15))\n",
    "ax = sns.distplot(house_data.auxHeat1)\n",
    "ax.set(xlabel = 'Target Variable Values')"
   ]
  },
  {
   "cell_type": "code",
   "execution_count": 17,
   "metadata": {},
   "outputs": [
    {
     "data": {
      "text/plain": [
       "Index(['Month', 'Day', 'HourofDay', 'T_ctrl', 'T_stp_heat', 'T_out', 'RH_out',\n",
       "       'Humidity', 'fan', 'auxHeat1'],\n",
       "      dtype='object')"
      ]
     },
     "execution_count": 17,
     "metadata": {},
     "output_type": "execute_result"
    }
   ],
   "source": [
    "df = house_data\n",
    "df.columns"
   ]
  },
  {
   "cell_type": "code",
   "execution_count": 18,
   "metadata": {},
   "outputs": [
    {
     "data": {
      "text/html": [
       "<div>\n",
       "<style scoped>\n",
       "    .dataframe tbody tr th:only-of-type {\n",
       "        vertical-align: middle;\n",
       "    }\n",
       "\n",
       "    .dataframe tbody tr th {\n",
       "        vertical-align: top;\n",
       "    }\n",
       "\n",
       "    .dataframe thead th {\n",
       "        text-align: right;\n",
       "    }\n",
       "</style>\n",
       "<table border=\"1\" class=\"dataframe\">\n",
       "  <thead>\n",
       "    <tr style=\"text-align: right;\">\n",
       "      <th></th>\n",
       "      <th>Month</th>\n",
       "      <th>Day</th>\n",
       "      <th>HourofDay</th>\n",
       "      <th>T_ctrl</th>\n",
       "      <th>T_stp_heat</th>\n",
       "      <th>T_out</th>\n",
       "      <th>RH_out</th>\n",
       "      <th>Humidity</th>\n",
       "      <th>fan</th>\n",
       "      <th>auxHeat1</th>\n",
       "    </tr>\n",
       "  </thead>\n",
       "  <tbody>\n",
       "    <tr>\n",
       "      <th>0</th>\n",
       "      <td>1</td>\n",
       "      <td>1</td>\n",
       "      <td>0</td>\n",
       "      <td>70.0</td>\n",
       "      <td>70.0</td>\n",
       "      <td>41.5</td>\n",
       "      <td>95.5</td>\n",
       "      <td>37.000000</td>\n",
       "      <td>200.00</td>\n",
       "      <td>960.0</td>\n",
       "    </tr>\n",
       "    <tr>\n",
       "      <th>1</th>\n",
       "      <td>1</td>\n",
       "      <td>1</td>\n",
       "      <td>1</td>\n",
       "      <td>70.0</td>\n",
       "      <td>70.0</td>\n",
       "      <td>42.0</td>\n",
       "      <td>94.0</td>\n",
       "      <td>37.000000</td>\n",
       "      <td>182.50</td>\n",
       "      <td>1065.0</td>\n",
       "    </tr>\n",
       "    <tr>\n",
       "      <th>2</th>\n",
       "      <td>1</td>\n",
       "      <td>1</td>\n",
       "      <td>2</td>\n",
       "      <td>70.0</td>\n",
       "      <td>70.0</td>\n",
       "      <td>41.5</td>\n",
       "      <td>92.5</td>\n",
       "      <td>37.333333</td>\n",
       "      <td>200.00</td>\n",
       "      <td>1575.0</td>\n",
       "    </tr>\n",
       "    <tr>\n",
       "      <th>3</th>\n",
       "      <td>1</td>\n",
       "      <td>1</td>\n",
       "      <td>3</td>\n",
       "      <td>70.0</td>\n",
       "      <td>70.0</td>\n",
       "      <td>38.5</td>\n",
       "      <td>89.5</td>\n",
       "      <td>37.000000</td>\n",
       "      <td>200.00</td>\n",
       "      <td>1440.0</td>\n",
       "    </tr>\n",
       "    <tr>\n",
       "      <th>4</th>\n",
       "      <td>1</td>\n",
       "      <td>1</td>\n",
       "      <td>4</td>\n",
       "      <td>70.0</td>\n",
       "      <td>70.0</td>\n",
       "      <td>35.0</td>\n",
       "      <td>86.0</td>\n",
       "      <td>37.083333</td>\n",
       "      <td>217.50</td>\n",
       "      <td>1680.0</td>\n",
       "    </tr>\n",
       "    <tr>\n",
       "      <th>...</th>\n",
       "      <td>...</td>\n",
       "      <td>...</td>\n",
       "      <td>...</td>\n",
       "      <td>...</td>\n",
       "      <td>...</td>\n",
       "      <td>...</td>\n",
       "      <td>...</td>\n",
       "      <td>...</td>\n",
       "      <td>...</td>\n",
       "      <td>...</td>\n",
       "    </tr>\n",
       "    <tr>\n",
       "      <th>3437</th>\n",
       "      <td>12</td>\n",
       "      <td>31</td>\n",
       "      <td>17</td>\n",
       "      <td>70.0</td>\n",
       "      <td>70.0</td>\n",
       "      <td>33.0</td>\n",
       "      <td>72.0</td>\n",
       "      <td>35.583333</td>\n",
       "      <td>195.00</td>\n",
       "      <td>525.0</td>\n",
       "    </tr>\n",
       "    <tr>\n",
       "      <th>3438</th>\n",
       "      <td>12</td>\n",
       "      <td>31</td>\n",
       "      <td>18</td>\n",
       "      <td>70.0</td>\n",
       "      <td>70.0</td>\n",
       "      <td>33.0</td>\n",
       "      <td>72.0</td>\n",
       "      <td>33.083333</td>\n",
       "      <td>200.00</td>\n",
       "      <td>825.0</td>\n",
       "    </tr>\n",
       "    <tr>\n",
       "      <th>3439</th>\n",
       "      <td>12</td>\n",
       "      <td>31</td>\n",
       "      <td>21</td>\n",
       "      <td>70.0</td>\n",
       "      <td>70.0</td>\n",
       "      <td>29.0</td>\n",
       "      <td>76.0</td>\n",
       "      <td>31.416667</td>\n",
       "      <td>211.25</td>\n",
       "      <td>870.0</td>\n",
       "    </tr>\n",
       "    <tr>\n",
       "      <th>3440</th>\n",
       "      <td>12</td>\n",
       "      <td>31</td>\n",
       "      <td>22</td>\n",
       "      <td>70.0</td>\n",
       "      <td>70.0</td>\n",
       "      <td>30.0</td>\n",
       "      <td>72.5</td>\n",
       "      <td>31.166667</td>\n",
       "      <td>218.75</td>\n",
       "      <td>930.0</td>\n",
       "    </tr>\n",
       "    <tr>\n",
       "      <th>3441</th>\n",
       "      <td>12</td>\n",
       "      <td>31</td>\n",
       "      <td>23</td>\n",
       "      <td>70.0</td>\n",
       "      <td>70.0</td>\n",
       "      <td>31.0</td>\n",
       "      <td>67.5</td>\n",
       "      <td>30.166667</td>\n",
       "      <td>200.00</td>\n",
       "      <td>975.0</td>\n",
       "    </tr>\n",
       "  </tbody>\n",
       "</table>\n",
       "<p>3442 rows × 10 columns</p>\n",
       "</div>"
      ],
      "text/plain": [
       "      Month  Day  HourofDay  T_ctrl  T_stp_heat  T_out  RH_out   Humidity  \\\n",
       "0         1    1          0    70.0        70.0   41.5    95.5  37.000000   \n",
       "1         1    1          1    70.0        70.0   42.0    94.0  37.000000   \n",
       "2         1    1          2    70.0        70.0   41.5    92.5  37.333333   \n",
       "3         1    1          3    70.0        70.0   38.5    89.5  37.000000   \n",
       "4         1    1          4    70.0        70.0   35.0    86.0  37.083333   \n",
       "...     ...  ...        ...     ...         ...    ...     ...        ...   \n",
       "3437     12   31         17    70.0        70.0   33.0    72.0  35.583333   \n",
       "3438     12   31         18    70.0        70.0   33.0    72.0  33.083333   \n",
       "3439     12   31         21    70.0        70.0   29.0    76.0  31.416667   \n",
       "3440     12   31         22    70.0        70.0   30.0    72.5  31.166667   \n",
       "3441     12   31         23    70.0        70.0   31.0    67.5  30.166667   \n",
       "\n",
       "         fan  auxHeat1  \n",
       "0     200.00     960.0  \n",
       "1     182.50    1065.0  \n",
       "2     200.00    1575.0  \n",
       "3     200.00    1440.0  \n",
       "4     217.50    1680.0  \n",
       "...      ...       ...  \n",
       "3437  195.00     525.0  \n",
       "3438  200.00     825.0  \n",
       "3439  211.25     870.0  \n",
       "3440  218.75     930.0  \n",
       "3441  200.00     975.0  \n",
       "\n",
       "[3442 rows x 10 columns]"
      ]
     },
     "execution_count": 18,
     "metadata": {},
     "output_type": "execute_result"
    }
   ],
   "source": [
    "df"
   ]
  },
  {
   "cell_type": "code",
   "execution_count": 19,
   "metadata": {},
   "outputs": [
    {
     "data": {
      "text/html": [
       "<div>\n",
       "<style scoped>\n",
       "    .dataframe tbody tr th:only-of-type {\n",
       "        vertical-align: middle;\n",
       "    }\n",
       "\n",
       "    .dataframe tbody tr th {\n",
       "        vertical-align: top;\n",
       "    }\n",
       "\n",
       "    .dataframe thead th {\n",
       "        text-align: right;\n",
       "    }\n",
       "</style>\n",
       "<table border=\"1\" class=\"dataframe\">\n",
       "  <thead>\n",
       "    <tr style=\"text-align: right;\">\n",
       "      <th></th>\n",
       "      <th>Month</th>\n",
       "      <th>Day</th>\n",
       "      <th>HourofDay</th>\n",
       "      <th>T_ctrl</th>\n",
       "      <th>T_stp_heat</th>\n",
       "      <th>T_out</th>\n",
       "      <th>RH_out</th>\n",
       "      <th>Humidity</th>\n",
       "      <th>fan</th>\n",
       "      <th>auxHeat1</th>\n",
       "      <th>combined</th>\n",
       "    </tr>\n",
       "  </thead>\n",
       "  <tbody>\n",
       "    <tr>\n",
       "      <th>0</th>\n",
       "      <td>1</td>\n",
       "      <td>1</td>\n",
       "      <td>0</td>\n",
       "      <td>70.0</td>\n",
       "      <td>70.0</td>\n",
       "      <td>41.5</td>\n",
       "      <td>95.5</td>\n",
       "      <td>37.000000</td>\n",
       "      <td>200.00</td>\n",
       "      <td>960.0</td>\n",
       "      <td>1_1_0</td>\n",
       "    </tr>\n",
       "    <tr>\n",
       "      <th>1</th>\n",
       "      <td>1</td>\n",
       "      <td>1</td>\n",
       "      <td>1</td>\n",
       "      <td>70.0</td>\n",
       "      <td>70.0</td>\n",
       "      <td>42.0</td>\n",
       "      <td>94.0</td>\n",
       "      <td>37.000000</td>\n",
       "      <td>182.50</td>\n",
       "      <td>1065.0</td>\n",
       "      <td>1_1_1</td>\n",
       "    </tr>\n",
       "    <tr>\n",
       "      <th>2</th>\n",
       "      <td>1</td>\n",
       "      <td>1</td>\n",
       "      <td>2</td>\n",
       "      <td>70.0</td>\n",
       "      <td>70.0</td>\n",
       "      <td>41.5</td>\n",
       "      <td>92.5</td>\n",
       "      <td>37.333333</td>\n",
       "      <td>200.00</td>\n",
       "      <td>1575.0</td>\n",
       "      <td>1_1_2</td>\n",
       "    </tr>\n",
       "    <tr>\n",
       "      <th>3</th>\n",
       "      <td>1</td>\n",
       "      <td>1</td>\n",
       "      <td>3</td>\n",
       "      <td>70.0</td>\n",
       "      <td>70.0</td>\n",
       "      <td>38.5</td>\n",
       "      <td>89.5</td>\n",
       "      <td>37.000000</td>\n",
       "      <td>200.00</td>\n",
       "      <td>1440.0</td>\n",
       "      <td>1_1_3</td>\n",
       "    </tr>\n",
       "    <tr>\n",
       "      <th>4</th>\n",
       "      <td>1</td>\n",
       "      <td>1</td>\n",
       "      <td>4</td>\n",
       "      <td>70.0</td>\n",
       "      <td>70.0</td>\n",
       "      <td>35.0</td>\n",
       "      <td>86.0</td>\n",
       "      <td>37.083333</td>\n",
       "      <td>217.50</td>\n",
       "      <td>1680.0</td>\n",
       "      <td>1_1_4</td>\n",
       "    </tr>\n",
       "    <tr>\n",
       "      <th>...</th>\n",
       "      <td>...</td>\n",
       "      <td>...</td>\n",
       "      <td>...</td>\n",
       "      <td>...</td>\n",
       "      <td>...</td>\n",
       "      <td>...</td>\n",
       "      <td>...</td>\n",
       "      <td>...</td>\n",
       "      <td>...</td>\n",
       "      <td>...</td>\n",
       "      <td>...</td>\n",
       "    </tr>\n",
       "    <tr>\n",
       "      <th>3437</th>\n",
       "      <td>12</td>\n",
       "      <td>31</td>\n",
       "      <td>17</td>\n",
       "      <td>70.0</td>\n",
       "      <td>70.0</td>\n",
       "      <td>33.0</td>\n",
       "      <td>72.0</td>\n",
       "      <td>35.583333</td>\n",
       "      <td>195.00</td>\n",
       "      <td>525.0</td>\n",
       "      <td>12_31_17</td>\n",
       "    </tr>\n",
       "    <tr>\n",
       "      <th>3438</th>\n",
       "      <td>12</td>\n",
       "      <td>31</td>\n",
       "      <td>18</td>\n",
       "      <td>70.0</td>\n",
       "      <td>70.0</td>\n",
       "      <td>33.0</td>\n",
       "      <td>72.0</td>\n",
       "      <td>33.083333</td>\n",
       "      <td>200.00</td>\n",
       "      <td>825.0</td>\n",
       "      <td>12_31_18</td>\n",
       "    </tr>\n",
       "    <tr>\n",
       "      <th>3439</th>\n",
       "      <td>12</td>\n",
       "      <td>31</td>\n",
       "      <td>21</td>\n",
       "      <td>70.0</td>\n",
       "      <td>70.0</td>\n",
       "      <td>29.0</td>\n",
       "      <td>76.0</td>\n",
       "      <td>31.416667</td>\n",
       "      <td>211.25</td>\n",
       "      <td>870.0</td>\n",
       "      <td>12_31_21</td>\n",
       "    </tr>\n",
       "    <tr>\n",
       "      <th>3440</th>\n",
       "      <td>12</td>\n",
       "      <td>31</td>\n",
       "      <td>22</td>\n",
       "      <td>70.0</td>\n",
       "      <td>70.0</td>\n",
       "      <td>30.0</td>\n",
       "      <td>72.5</td>\n",
       "      <td>31.166667</td>\n",
       "      <td>218.75</td>\n",
       "      <td>930.0</td>\n",
       "      <td>12_31_22</td>\n",
       "    </tr>\n",
       "    <tr>\n",
       "      <th>3441</th>\n",
       "      <td>12</td>\n",
       "      <td>31</td>\n",
       "      <td>23</td>\n",
       "      <td>70.0</td>\n",
       "      <td>70.0</td>\n",
       "      <td>31.0</td>\n",
       "      <td>67.5</td>\n",
       "      <td>30.166667</td>\n",
       "      <td>200.00</td>\n",
       "      <td>975.0</td>\n",
       "      <td>12_31_23</td>\n",
       "    </tr>\n",
       "  </tbody>\n",
       "</table>\n",
       "<p>3442 rows × 11 columns</p>\n",
       "</div>"
      ],
      "text/plain": [
       "      Month  Day  HourofDay  T_ctrl  T_stp_heat  T_out  RH_out   Humidity  \\\n",
       "0         1    1          0    70.0        70.0   41.5    95.5  37.000000   \n",
       "1         1    1          1    70.0        70.0   42.0    94.0  37.000000   \n",
       "2         1    1          2    70.0        70.0   41.5    92.5  37.333333   \n",
       "3         1    1          3    70.0        70.0   38.5    89.5  37.000000   \n",
       "4         1    1          4    70.0        70.0   35.0    86.0  37.083333   \n",
       "...     ...  ...        ...     ...         ...    ...     ...        ...   \n",
       "3437     12   31         17    70.0        70.0   33.0    72.0  35.583333   \n",
       "3438     12   31         18    70.0        70.0   33.0    72.0  33.083333   \n",
       "3439     12   31         21    70.0        70.0   29.0    76.0  31.416667   \n",
       "3440     12   31         22    70.0        70.0   30.0    72.5  31.166667   \n",
       "3441     12   31         23    70.0        70.0   31.0    67.5  30.166667   \n",
       "\n",
       "         fan  auxHeat1  combined  \n",
       "0     200.00     960.0     1_1_0  \n",
       "1     182.50    1065.0     1_1_1  \n",
       "2     200.00    1575.0     1_1_2  \n",
       "3     200.00    1440.0     1_1_3  \n",
       "4     217.50    1680.0     1_1_4  \n",
       "...      ...       ...       ...  \n",
       "3437  195.00     525.0  12_31_17  \n",
       "3438  200.00     825.0  12_31_18  \n",
       "3439  211.25     870.0  12_31_21  \n",
       "3440  218.75     930.0  12_31_22  \n",
       "3441  200.00     975.0  12_31_23  \n",
       "\n",
       "[3442 rows x 11 columns]"
      ]
     },
     "execution_count": 19,
     "metadata": {},
     "output_type": "execute_result"
    }
   ],
   "source": [
    "df['combined']=df['Month'].astype(str)+'_'+df['Day'].astype(str)+'_'+df['HourofDay'].astype(str)\n",
    "df"
   ]
  },
  {
   "cell_type": "code",
   "execution_count": 20,
   "metadata": {},
   "outputs": [],
   "source": [
    "# def f(row):\n",
    "#     if row['auxHeat1'] >= 0.0 and row['auxHeat1'] < 900.0:\n",
    "#         val = 900.0\n",
    "#     elif row['auxHeat1'] > 900.0 and row['auxHeat1'] < 1800.0:\n",
    "#         val = 1800.0\n",
    "#     elif row['auxHeat1'] > 1800.0 and row['auxHeat1'] < 2700.0:\n",
    "#         val = 2700.00\n",
    "#     else:\n",
    "#         val = 3600.00\n",
    "#     return val"
   ]
  },
  {
   "cell_type": "code",
   "execution_count": 21,
   "metadata": {},
   "outputs": [],
   "source": [
    "#df['auxHeat1'] = df.apply(f, axis =1) "
   ]
  },
  {
   "cell_type": "code",
   "execution_count": 22,
   "metadata": {},
   "outputs": [
    {
     "data": {
      "text/plain": [
       "array([ 960., 1065., 1575., 1440., 1680., 1260., 1230., 1470., 1800.,\n",
       "       1200.,  735., 1350., 1080.,  630., 1380.,  945.,   75., 1530.,\n",
       "       1455., 1050., 1590., 1935., 2010., 2040., 2070., 2130., 2115.,\n",
       "       2790., 1545., 1395., 1305.,  750.,  855., 3120., 3600., 1605.,\n",
       "       1815.,  795., 3180., 1650., 1320., 2685., 1995., 1335., 1950.,\n",
       "       1125., 1365., 1710., 1635., 1425.,  840.,  720.,  525.,  480.,\n",
       "        345.,  495., 2445.,  975., 1170.,  300., 3000.,  825.,  765.,\n",
       "       1110., 1275.,  615., 2880., 3435.,   30.,  915.,   45.,  555.,\n",
       "       2640., 2085., 3585., 1875.,  990.,  900., 2430., 2835., 3225.,\n",
       "        180., 2745., 3330., 2925., 2205., 1410.,  675., 3510., 1485.,\n",
       "       3300., 1830., 1215., 1020.,  585., 1140.,  780., 1755., 1770.,\n",
       "        465., 1515., 3390., 2055., 1740., 1290., 3345., 1665., 3405.,\n",
       "       2145., 2100., 2715.,  105., 2265., 2340., 2370., 3030., 2550.,\n",
       "       2625., 3135., 3105., 3150., 3165., 2565., 2610., 1905.,  705.,\n",
       "       2025., 1965., 2175., 2190., 2280., 1890., 1845., 1560., 1920.,\n",
       "       2940., 2295., 2505., 2310., 3015., 2160., 2820., 1860., 1500.,\n",
       "       2385., 2235., 2595., 2400., 2355., 2655., 2535., 2250., 1980.,\n",
       "       1155., 1035.,  885., 2805.,  645., 1725., 3555., 2460., 1185.,\n",
       "       1785., 1695., 1620., 1095., 3075., 2700., 2985., 3480., 2760.,\n",
       "       2220., 2475.,  570., 3360., 2730., 2775., 2970., 2895., 2490.,\n",
       "       3465.,  690., 2910., 3210., 3240., 2325., 1245., 2955., 3495.,\n",
       "        225., 3420.,  390., 3045., 3270., 2850., 3195., 3060., 3090.,\n",
       "       2520.,  165.,  810.,  120.,  450.,  240.,  315.,  870.,  195.,\n",
       "        285.,  600.,  150.,  210.,  375.,  660.,  360., 2415.,   90.,\n",
       "       2670.,  930.,  540.,  330., 1005.,  435.,  510.,  255.,  405.,\n",
       "       4110., 4125.,  270., 5250.,   60.,  420., 3540.,   15.,  135.,\n",
       "       3525., 3285., 2580., 3315., 2865., 3375.])"
      ]
     },
     "execution_count": 22,
     "metadata": {},
     "output_type": "execute_result"
    }
   ],
   "source": [
    "df['auxHeat1'].unique()"
   ]
  },
  {
   "cell_type": "code",
   "execution_count": 23,
   "metadata": {},
   "outputs": [
    {
     "data": {
      "text/html": [
       "<div>\n",
       "<style scoped>\n",
       "    .dataframe tbody tr th:only-of-type {\n",
       "        vertical-align: middle;\n",
       "    }\n",
       "\n",
       "    .dataframe tbody tr th {\n",
       "        vertical-align: top;\n",
       "    }\n",
       "\n",
       "    .dataframe thead th {\n",
       "        text-align: right;\n",
       "    }\n",
       "</style>\n",
       "<table border=\"1\" class=\"dataframe\">\n",
       "  <thead>\n",
       "    <tr style=\"text-align: right;\">\n",
       "      <th></th>\n",
       "      <th>Month</th>\n",
       "      <th>Day</th>\n",
       "      <th>HourofDay</th>\n",
       "      <th>T_ctrl</th>\n",
       "      <th>T_stp_heat</th>\n",
       "      <th>T_out</th>\n",
       "      <th>RH_out</th>\n",
       "      <th>Humidity</th>\n",
       "      <th>fan</th>\n",
       "      <th>auxHeat1</th>\n",
       "      <th>combined</th>\n",
       "    </tr>\n",
       "  </thead>\n",
       "  <tbody>\n",
       "    <tr>\n",
       "      <th>0</th>\n",
       "      <td>1</td>\n",
       "      <td>1</td>\n",
       "      <td>0</td>\n",
       "      <td>70.0</td>\n",
       "      <td>70.0</td>\n",
       "      <td>41.5</td>\n",
       "      <td>95.5</td>\n",
       "      <td>37.000000</td>\n",
       "      <td>200.0</td>\n",
       "      <td>960.0</td>\n",
       "      <td>1_1_0</td>\n",
       "    </tr>\n",
       "    <tr>\n",
       "      <th>1</th>\n",
       "      <td>1</td>\n",
       "      <td>1</td>\n",
       "      <td>1</td>\n",
       "      <td>70.0</td>\n",
       "      <td>70.0</td>\n",
       "      <td>42.0</td>\n",
       "      <td>94.0</td>\n",
       "      <td>37.000000</td>\n",
       "      <td>182.5</td>\n",
       "      <td>1065.0</td>\n",
       "      <td>1_1_1</td>\n",
       "    </tr>\n",
       "    <tr>\n",
       "      <th>2</th>\n",
       "      <td>1</td>\n",
       "      <td>1</td>\n",
       "      <td>2</td>\n",
       "      <td>70.0</td>\n",
       "      <td>70.0</td>\n",
       "      <td>41.5</td>\n",
       "      <td>92.5</td>\n",
       "      <td>37.333333</td>\n",
       "      <td>200.0</td>\n",
       "      <td>1575.0</td>\n",
       "      <td>1_1_2</td>\n",
       "    </tr>\n",
       "    <tr>\n",
       "      <th>3</th>\n",
       "      <td>1</td>\n",
       "      <td>1</td>\n",
       "      <td>3</td>\n",
       "      <td>70.0</td>\n",
       "      <td>70.0</td>\n",
       "      <td>38.5</td>\n",
       "      <td>89.5</td>\n",
       "      <td>37.000000</td>\n",
       "      <td>200.0</td>\n",
       "      <td>1440.0</td>\n",
       "      <td>1_1_3</td>\n",
       "    </tr>\n",
       "    <tr>\n",
       "      <th>4</th>\n",
       "      <td>1</td>\n",
       "      <td>1</td>\n",
       "      <td>4</td>\n",
       "      <td>70.0</td>\n",
       "      <td>70.0</td>\n",
       "      <td>35.0</td>\n",
       "      <td>86.0</td>\n",
       "      <td>37.083333</td>\n",
       "      <td>217.5</td>\n",
       "      <td>1680.0</td>\n",
       "      <td>1_1_4</td>\n",
       "    </tr>\n",
       "  </tbody>\n",
       "</table>\n",
       "</div>"
      ],
      "text/plain": [
       "   Month  Day  HourofDay  T_ctrl  T_stp_heat  T_out  RH_out   Humidity    fan  \\\n",
       "0      1    1          0    70.0        70.0   41.5    95.5  37.000000  200.0   \n",
       "1      1    1          1    70.0        70.0   42.0    94.0  37.000000  182.5   \n",
       "2      1    1          2    70.0        70.0   41.5    92.5  37.333333  200.0   \n",
       "3      1    1          3    70.0        70.0   38.5    89.5  37.000000  200.0   \n",
       "4      1    1          4    70.0        70.0   35.0    86.0  37.083333  217.5   \n",
       "\n",
       "   auxHeat1 combined  \n",
       "0     960.0    1_1_0  \n",
       "1    1065.0    1_1_1  \n",
       "2    1575.0    1_1_2  \n",
       "3    1440.0    1_1_3  \n",
       "4    1680.0    1_1_4  "
      ]
     },
     "execution_count": 23,
     "metadata": {},
     "output_type": "execute_result"
    }
   ],
   "source": [
    "df.head()"
   ]
  },
  {
   "cell_type": "code",
   "execution_count": 24,
   "metadata": {},
   "outputs": [],
   "source": [
    "numerical_vars = ['T_ctrl', 'T_stp_heat', 'T_out', 'RH_out','Humidity', 'fan']\n",
    "predsc = StandardScaler()\n",
    "predsc.fit(df[numerical_vars])\n",
    "scalar_data = predsc.transform(df[numerical_vars])"
   ]
  },
  {
   "cell_type": "code",
   "execution_count": 25,
   "metadata": {},
   "outputs": [],
   "source": [
    "\n",
    "y_auxHeat = df[['auxHeat1']].to_numpy()\n",
    "targsc = StandardScaler()\n",
    "targsc.fit(y_auxHeat)\n",
    "y_auxHeat = targsc.transform(y_auxHeat)"
   ]
  },
  {
   "cell_type": "code",
   "execution_count": 26,
   "metadata": {},
   "outputs": [
    {
     "data": {
      "text/plain": [
       "array([[-0.57621365],\n",
       "       [-0.45497808],\n",
       "       [ 0.13388042],\n",
       "       ...,\n",
       "       [-0.68012986],\n",
       "       [-0.61085239],\n",
       "       [-0.55889429]])"
      ]
     },
     "execution_count": 26,
     "metadata": {},
     "output_type": "execute_result"
    }
   ],
   "source": [
    "y_auxHeat"
   ]
  },
  {
   "cell_type": "code",
   "execution_count": 27,
   "metadata": {},
   "outputs": [
    {
     "data": {
      "text/html": [
       "<div>\n",
       "<style scoped>\n",
       "    .dataframe tbody tr th:only-of-type {\n",
       "        vertical-align: middle;\n",
       "    }\n",
       "\n",
       "    .dataframe tbody tr th {\n",
       "        vertical-align: top;\n",
       "    }\n",
       "\n",
       "    .dataframe thead th {\n",
       "        text-align: right;\n",
       "    }\n",
       "</style>\n",
       "<table border=\"1\" class=\"dataframe\">\n",
       "  <thead>\n",
       "    <tr style=\"text-align: right;\">\n",
       "      <th></th>\n",
       "      <th>T_ctrl</th>\n",
       "      <th>T_stp_heat</th>\n",
       "      <th>T_out</th>\n",
       "      <th>RH_out</th>\n",
       "      <th>Humidity</th>\n",
       "      <th>fan</th>\n",
       "      <th>auxHeat1</th>\n",
       "    </tr>\n",
       "  </thead>\n",
       "  <tbody>\n",
       "    <tr>\n",
       "      <th>0</th>\n",
       "      <td>0.343517</td>\n",
       "      <td>0.298575</td>\n",
       "      <td>0.851287</td>\n",
       "      <td>1.867125</td>\n",
       "      <td>0.893055</td>\n",
       "      <td>-0.371311</td>\n",
       "      <td>-0.576214</td>\n",
       "    </tr>\n",
       "    <tr>\n",
       "      <th>1</th>\n",
       "      <td>0.343517</td>\n",
       "      <td>0.298575</td>\n",
       "      <td>0.894123</td>\n",
       "      <td>1.751500</td>\n",
       "      <td>0.893055</td>\n",
       "      <td>-0.897772</td>\n",
       "      <td>-0.454978</td>\n",
       "    </tr>\n",
       "    <tr>\n",
       "      <th>2</th>\n",
       "      <td>0.343517</td>\n",
       "      <td>0.298575</td>\n",
       "      <td>0.851287</td>\n",
       "      <td>1.635875</td>\n",
       "      <td>0.939806</td>\n",
       "      <td>-0.371311</td>\n",
       "      <td>0.133880</td>\n",
       "    </tr>\n",
       "    <tr>\n",
       "      <th>3</th>\n",
       "      <td>0.343517</td>\n",
       "      <td>0.298575</td>\n",
       "      <td>0.594272</td>\n",
       "      <td>1.404625</td>\n",
       "      <td>0.893055</td>\n",
       "      <td>-0.371311</td>\n",
       "      <td>-0.021994</td>\n",
       "    </tr>\n",
       "    <tr>\n",
       "      <th>4</th>\n",
       "      <td>0.343517</td>\n",
       "      <td>0.298575</td>\n",
       "      <td>0.294420</td>\n",
       "      <td>1.134834</td>\n",
       "      <td>0.904743</td>\n",
       "      <td>0.155149</td>\n",
       "      <td>0.255116</td>\n",
       "    </tr>\n",
       "    <tr>\n",
       "      <th>5</th>\n",
       "      <td>0.343517</td>\n",
       "      <td>0.298575</td>\n",
       "      <td>0.251585</td>\n",
       "      <td>1.057750</td>\n",
       "      <td>0.904743</td>\n",
       "      <td>-0.484124</td>\n",
       "      <td>-0.229826</td>\n",
       "    </tr>\n",
       "    <tr>\n",
       "      <th>6</th>\n",
       "      <td>0.343517</td>\n",
       "      <td>0.298575</td>\n",
       "      <td>0.165913</td>\n",
       "      <td>0.672334</td>\n",
       "      <td>0.881367</td>\n",
       "      <td>-0.371311</td>\n",
       "      <td>-0.264465</td>\n",
       "    </tr>\n",
       "    <tr>\n",
       "      <th>7</th>\n",
       "      <td>0.343517</td>\n",
       "      <td>0.298575</td>\n",
       "      <td>0.165913</td>\n",
       "      <td>0.441084</td>\n",
       "      <td>0.869680</td>\n",
       "      <td>-0.371311</td>\n",
       "      <td>0.012645</td>\n",
       "    </tr>\n",
       "    <tr>\n",
       "      <th>8</th>\n",
       "      <td>0.343517</td>\n",
       "      <td>0.298575</td>\n",
       "      <td>0.123077</td>\n",
       "      <td>0.286917</td>\n",
       "      <td>0.811242</td>\n",
       "      <td>-0.371311</td>\n",
       "      <td>0.393671</td>\n",
       "    </tr>\n",
       "    <tr>\n",
       "      <th>9</th>\n",
       "      <td>0.343517</td>\n",
       "      <td>0.298575</td>\n",
       "      <td>-0.005431</td>\n",
       "      <td>0.209834</td>\n",
       "      <td>0.776179</td>\n",
       "      <td>-0.070477</td>\n",
       "      <td>0.012645</td>\n",
       "    </tr>\n",
       "  </tbody>\n",
       "</table>\n",
       "</div>"
      ],
      "text/plain": [
       "     T_ctrl  T_stp_heat     T_out    RH_out  Humidity       fan  auxHeat1\n",
       "0  0.343517    0.298575  0.851287  1.867125  0.893055 -0.371311 -0.576214\n",
       "1  0.343517    0.298575  0.894123  1.751500  0.893055 -0.897772 -0.454978\n",
       "2  0.343517    0.298575  0.851287  1.635875  0.939806 -0.371311  0.133880\n",
       "3  0.343517    0.298575  0.594272  1.404625  0.893055 -0.371311 -0.021994\n",
       "4  0.343517    0.298575  0.294420  1.134834  0.904743  0.155149  0.255116\n",
       "5  0.343517    0.298575  0.251585  1.057750  0.904743 -0.484124 -0.229826\n",
       "6  0.343517    0.298575  0.165913  0.672334  0.881367 -0.371311 -0.264465\n",
       "7  0.343517    0.298575  0.165913  0.441084  0.869680 -0.371311  0.012645\n",
       "8  0.343517    0.298575  0.123077  0.286917  0.811242 -0.371311  0.393671\n",
       "9  0.343517    0.298575 -0.005431  0.209834  0.776179 -0.070477  0.012645"
      ]
     },
     "execution_count": 27,
     "metadata": {},
     "output_type": "execute_result"
    }
   ],
   "source": [
    "s=df[numerical_vars].copy()\n",
    "s[numerical_vars]=scalar_data\n",
    "s[\"auxHeat1\"] = y_auxHeat\n",
    "# s['combined']=df['combined']\n",
    "s.head(10)"
   ]
  },
  {
   "cell_type": "code",
   "execution_count": null,
   "metadata": {},
   "outputs": [],
   "source": []
  },
  {
   "cell_type": "code",
   "execution_count": 28,
   "metadata": {},
   "outputs": [],
   "source": [
    "X = s.drop(labels = ['auxHeat1'], axis = 1)"
   ]
  },
  {
   "cell_type": "code",
   "execution_count": 30,
   "metadata": {},
   "outputs": [],
   "source": [
    "y_auxHeat = s['auxHeat1']\n",
    "#_auxHeat = to_categorical(y_auxHeat)\n",
    "y_auxHeat = np.array(y_auxHeat).reshape(-1,1)"
   ]
  },
  {
   "cell_type": "code",
   "execution_count": null,
   "metadata": {},
   "outputs": [],
   "source": []
  },
  {
   "cell_type": "code",
   "execution_count": 31,
   "metadata": {},
   "outputs": [
    {
     "data": {
      "text/plain": [
       "T_ctrl        3442\n",
       "T_stp_heat    3442\n",
       "T_out         3442\n",
       "RH_out        3442\n",
       "Humidity      3442\n",
       "fan           3442\n",
       "dtype: int64"
      ]
     },
     "execution_count": 31,
     "metadata": {},
     "output_type": "execute_result"
    }
   ],
   "source": [
    "X.count()"
   ]
  },
  {
   "cell_type": "code",
   "execution_count": 32,
   "metadata": {},
   "outputs": [
    {
     "data": {
      "text/plain": [
       "array([[-0.57621365],\n",
       "       [-0.45497808],\n",
       "       [ 0.13388042],\n",
       "       ...,\n",
       "       [-0.68012986],\n",
       "       [-0.61085239],\n",
       "       [-0.55889429]])"
      ]
     },
     "execution_count": 32,
     "metadata": {},
     "output_type": "execute_result"
    }
   ],
   "source": [
    "#y_auxHeat = abs(y_auxHeat)\n",
    "y_auxHeat"
   ]
  },
  {
   "cell_type": "code",
   "execution_count": 33,
   "metadata": {},
   "outputs": [],
   "source": [
    "from sklearn.model_selection import train_test_split\n",
    "X_train, X_test, y_train, y_test = train_test_split(X, y_auxHeat, test_size=0.3, random_state=42)"
   ]
  },
  {
   "cell_type": "code",
   "execution_count": null,
   "metadata": {},
   "outputs": [],
   "source": []
  },
  {
   "cell_type": "code",
   "execution_count": 34,
   "metadata": {},
   "outputs": [
    {
     "data": {
      "text/plain": [
       "((2409, 6), (1033, 6))"
      ]
     },
     "execution_count": 34,
     "metadata": {},
     "output_type": "execute_result"
    }
   ],
   "source": [
    "X_train.shape,X_test.shape"
   ]
  },
  {
   "cell_type": "code",
   "execution_count": 35,
   "metadata": {},
   "outputs": [
    {
     "data": {
      "text/plain": [
       "((2409, 1), (1033, 1))"
      ]
     },
     "execution_count": 35,
     "metadata": {},
     "output_type": "execute_result"
    }
   ],
   "source": [
    "y_train.shape,y_test.shape"
   ]
  },
  {
   "cell_type": "code",
   "execution_count": 36,
   "metadata": {},
   "outputs": [],
   "source": [
    "X_train = X_train.values\n",
    "X_test = X_test.values"
   ]
  },
  {
   "cell_type": "code",
   "execution_count": 37,
   "metadata": {},
   "outputs": [],
   "source": [
    "X_train = X_train.astype(float)\n",
    "X_test = X_test.astype(float)"
   ]
  },
  {
   "cell_type": "code",
   "execution_count": 38,
   "metadata": {},
   "outputs": [
    {
     "data": {
      "text/plain": [
       "array([[-0.8186848 ],\n",
       "       [ 1.15572312],\n",
       "       [-0.7667267 ],\n",
       "       ...,\n",
       "       [-0.29910377],\n",
       "       [-0.48961681],\n",
       "       [ 0.46294841]])"
      ]
     },
     "execution_count": 38,
     "metadata": {},
     "output_type": "execute_result"
    }
   ],
   "source": [
    "y_train"
   ]
  },
  {
   "cell_type": "code",
   "execution_count": 39,
   "metadata": {},
   "outputs": [],
   "source": [
    "from sklearn.metrics import r2_score\n",
    "from sklearn.metrics import mean_squared_error\n",
    "from sklearn.metrics import mean_absolute_error\n",
    "from sklearn import linear_model    \n"
   ]
  },
  {
   "cell_type": "code",
   "execution_count": 40,
   "metadata": {},
   "outputs": [],
   "source": [
    "model = linear_model.LinearRegression()\n",
    "\n",
    "model.fit(X,y_auxHeat)\n",
    "predict_y = model.predict(X)\n"
   ]
  },
  {
   "cell_type": "code",
   "execution_count": 41,
   "metadata": {},
   "outputs": [
    {
     "data": {
      "text/plain": [
       "array([[-0.4561803 ],\n",
       "       [-0.77809276],\n",
       "       [-0.46000746],\n",
       "       ...,\n",
       "       [ 0.09743783],\n",
       "       [ 0.20271017],\n",
       "       [-0.14977736]])"
      ]
     },
     "execution_count": 41,
     "metadata": {},
     "output_type": "execute_result"
    }
   ],
   "source": [
    "predict_y"
   ]
  },
  {
   "cell_type": "code",
   "execution_count": 42,
   "metadata": {},
   "outputs": [
    {
     "name": "stdout",
     "output_type": "stream",
     "text": [
      "0.6221045055910951 0.46271498375734327 0.36864132965408913\n"
     ]
    }
   ],
   "source": [
    "rmse = np.sqrt(mean_squared_error(y_auxHeat,predict_y))\n",
    "\n",
    "mae = mean_absolute_error(y_auxHeat, predict_y)\n",
    "\n",
    "\n",
    "r_s = r2_score(predict_y,y_auxHeat)\n",
    "\n",
    "print(rmse,mae,r_s)"
   ]
  },
  {
   "cell_type": "code",
   "execution_count": 43,
   "metadata": {},
   "outputs": [
    {
     "data": {
      "text/html": [
       "<div>\n",
       "<style scoped>\n",
       "    .dataframe tbody tr th:only-of-type {\n",
       "        vertical-align: middle;\n",
       "    }\n",
       "\n",
       "    .dataframe tbody tr th {\n",
       "        vertical-align: top;\n",
       "    }\n",
       "\n",
       "    .dataframe thead th {\n",
       "        text-align: right;\n",
       "    }\n",
       "</style>\n",
       "<table border=\"1\" class=\"dataframe\">\n",
       "  <thead>\n",
       "    <tr style=\"text-align: right;\">\n",
       "      <th></th>\n",
       "      <th>T_ctrl</th>\n",
       "      <th>T_stp_heat</th>\n",
       "      <th>T_out</th>\n",
       "      <th>RH_out</th>\n",
       "      <th>Humidity</th>\n",
       "      <th>fan</th>\n",
       "    </tr>\n",
       "  </thead>\n",
       "  <tbody>\n",
       "    <tr>\n",
       "      <th>0</th>\n",
       "      <td>0.343517</td>\n",
       "      <td>0.298575</td>\n",
       "      <td>0.851287</td>\n",
       "      <td>1.867125</td>\n",
       "      <td>0.893055</td>\n",
       "      <td>-0.371311</td>\n",
       "    </tr>\n",
       "    <tr>\n",
       "      <th>1</th>\n",
       "      <td>0.343517</td>\n",
       "      <td>0.298575</td>\n",
       "      <td>0.894123</td>\n",
       "      <td>1.751500</td>\n",
       "      <td>0.893055</td>\n",
       "      <td>-0.897772</td>\n",
       "    </tr>\n",
       "    <tr>\n",
       "      <th>2</th>\n",
       "      <td>0.343517</td>\n",
       "      <td>0.298575</td>\n",
       "      <td>0.851287</td>\n",
       "      <td>1.635875</td>\n",
       "      <td>0.939806</td>\n",
       "      <td>-0.371311</td>\n",
       "    </tr>\n",
       "    <tr>\n",
       "      <th>3</th>\n",
       "      <td>0.343517</td>\n",
       "      <td>0.298575</td>\n",
       "      <td>0.594272</td>\n",
       "      <td>1.404625</td>\n",
       "      <td>0.893055</td>\n",
       "      <td>-0.371311</td>\n",
       "    </tr>\n",
       "    <tr>\n",
       "      <th>4</th>\n",
       "      <td>0.343517</td>\n",
       "      <td>0.298575</td>\n",
       "      <td>0.294420</td>\n",
       "      <td>1.134834</td>\n",
       "      <td>0.904743</td>\n",
       "      <td>0.155149</td>\n",
       "    </tr>\n",
       "    <tr>\n",
       "      <th>...</th>\n",
       "      <td>...</td>\n",
       "      <td>...</td>\n",
       "      <td>...</td>\n",
       "      <td>...</td>\n",
       "      <td>...</td>\n",
       "      <td>...</td>\n",
       "    </tr>\n",
       "    <tr>\n",
       "      <th>3437</th>\n",
       "      <td>0.343517</td>\n",
       "      <td>0.298575</td>\n",
       "      <td>0.123077</td>\n",
       "      <td>0.055667</td>\n",
       "      <td>0.694365</td>\n",
       "      <td>-0.521728</td>\n",
       "    </tr>\n",
       "    <tr>\n",
       "      <th>3438</th>\n",
       "      <td>0.343517</td>\n",
       "      <td>0.298575</td>\n",
       "      <td>0.123077</td>\n",
       "      <td>0.055667</td>\n",
       "      <td>0.343736</td>\n",
       "      <td>-0.371311</td>\n",
       "    </tr>\n",
       "    <tr>\n",
       "      <th>3439</th>\n",
       "      <td>0.343517</td>\n",
       "      <td>0.298575</td>\n",
       "      <td>-0.219610</td>\n",
       "      <td>0.364000</td>\n",
       "      <td>0.109983</td>\n",
       "      <td>-0.032872</td>\n",
       "    </tr>\n",
       "    <tr>\n",
       "      <th>3440</th>\n",
       "      <td>0.343517</td>\n",
       "      <td>0.298575</td>\n",
       "      <td>-0.133939</td>\n",
       "      <td>0.094209</td>\n",
       "      <td>0.074920</td>\n",
       "      <td>0.192753</td>\n",
       "    </tr>\n",
       "    <tr>\n",
       "      <th>3441</th>\n",
       "      <td>0.343517</td>\n",
       "      <td>0.298575</td>\n",
       "      <td>-0.048267</td>\n",
       "      <td>-0.291208</td>\n",
       "      <td>-0.065331</td>\n",
       "      <td>-0.371311</td>\n",
       "    </tr>\n",
       "  </tbody>\n",
       "</table>\n",
       "<p>3442 rows × 6 columns</p>\n",
       "</div>"
      ],
      "text/plain": [
       "        T_ctrl  T_stp_heat     T_out    RH_out  Humidity       fan\n",
       "0     0.343517    0.298575  0.851287  1.867125  0.893055 -0.371311\n",
       "1     0.343517    0.298575  0.894123  1.751500  0.893055 -0.897772\n",
       "2     0.343517    0.298575  0.851287  1.635875  0.939806 -0.371311\n",
       "3     0.343517    0.298575  0.594272  1.404625  0.893055 -0.371311\n",
       "4     0.343517    0.298575  0.294420  1.134834  0.904743  0.155149\n",
       "...        ...         ...       ...       ...       ...       ...\n",
       "3437  0.343517    0.298575  0.123077  0.055667  0.694365 -0.521728\n",
       "3438  0.343517    0.298575  0.123077  0.055667  0.343736 -0.371311\n",
       "3439  0.343517    0.298575 -0.219610  0.364000  0.109983 -0.032872\n",
       "3440  0.343517    0.298575 -0.133939  0.094209  0.074920  0.192753\n",
       "3441  0.343517    0.298575 -0.048267 -0.291208 -0.065331 -0.371311\n",
       "\n",
       "[3442 rows x 6 columns]"
      ]
     },
     "execution_count": 43,
     "metadata": {},
     "output_type": "execute_result"
    }
   ],
   "source": [
    "X"
   ]
  },
  {
   "cell_type": "code",
   "execution_count": 44,
   "metadata": {},
   "outputs": [
    {
     "data": {
      "text/plain": [
       "((2409, 6), (2409, 1))"
      ]
     },
     "execution_count": 44,
     "metadata": {},
     "output_type": "execute_result"
    }
   ],
   "source": [
    "X_train.shape, y_train.shape"
   ]
  },
  {
   "cell_type": "code",
   "execution_count": 45,
   "metadata": {},
   "outputs": [
    {
     "name": "stdout",
     "output_type": "stream",
     "text": [
      "Epoch 1/50\n",
      "38/38 [==============================] - 0s 6ms/step - loss: 0.7816 - mse: 0.9804 - val_loss: 0.7489 - val_mse: 0.8970\n",
      "Epoch 2/50\n",
      "38/38 [==============================] - 0s 2ms/step - loss: 0.6680 - mse: 0.7679 - val_loss: 0.5578 - val_mse: 0.5673\n",
      "Epoch 3/50\n",
      "38/38 [==============================] - 0s 2ms/step - loss: 0.4983 - mse: 0.4757 - val_loss: 0.4430 - val_mse: 0.3927\n",
      "Epoch 4/50\n",
      "38/38 [==============================] - 0s 3ms/step - loss: 0.4517 - mse: 0.4022 - val_loss: 0.4257 - val_mse: 0.3616\n",
      "Epoch 5/50\n",
      "38/38 [==============================] - 0s 3ms/step - loss: 0.4410 - mse: 0.3895 - val_loss: 0.4188 - val_mse: 0.3529\n",
      "Epoch 6/50\n",
      "38/38 [==============================] - 0s 3ms/step - loss: 0.4361 - mse: 0.3863 - val_loss: 0.4159 - val_mse: 0.3546\n",
      "Epoch 7/50\n",
      "38/38 [==============================] - 0s 3ms/step - loss: 0.4328 - mse: 0.3818 - val_loss: 0.4144 - val_mse: 0.3479\n",
      "Epoch 8/50\n",
      "38/38 [==============================] - 0s 3ms/step - loss: 0.4302 - mse: 0.3837 - val_loss: 0.4160 - val_mse: 0.3421\n",
      "Epoch 9/50\n",
      "38/38 [==============================] - 0s 3ms/step - loss: 0.4288 - mse: 0.3838 - val_loss: 0.4117 - val_mse: 0.3538\n",
      "Epoch 10/50\n",
      "38/38 [==============================] - 0s 4ms/step - loss: 0.4271 - mse: 0.3821 - val_loss: 0.4107 - val_mse: 0.3493\n",
      "Epoch 11/50\n",
      "38/38 [==============================] - 0s 3ms/step - loss: 0.4257 - mse: 0.3830 - val_loss: 0.4095 - val_mse: 0.3510\n",
      "Epoch 12/50\n",
      "38/38 [==============================] - 0s 3ms/step - loss: 0.4248 - mse: 0.3871 - val_loss: 0.4087 - val_mse: 0.3427\n",
      "Epoch 13/50\n",
      "38/38 [==============================] - 0s 2ms/step - loss: 0.4232 - mse: 0.3857 - val_loss: 0.4086 - val_mse: 0.3419\n",
      "Epoch 14/50\n",
      "38/38 [==============================] - 0s 2ms/step - loss: 0.4216 - mse: 0.3863 - val_loss: 0.4064 - val_mse: 0.3411\n",
      "Epoch 15/50\n",
      "38/38 [==============================] - 0s 3ms/step - loss: 0.4197 - mse: 0.3854 - val_loss: 0.4057 - val_mse: 0.3406\n",
      "Epoch 16/50\n",
      "38/38 [==============================] - 0s 3ms/step - loss: 0.4182 - mse: 0.3833 - val_loss: 0.4028 - val_mse: 0.3446\n",
      "Epoch 17/50\n",
      "38/38 [==============================] - 0s 3ms/step - loss: 0.4161 - mse: 0.3842 - val_loss: 0.4011 - val_mse: 0.3459\n",
      "Epoch 18/50\n",
      "38/38 [==============================] - 0s 3ms/step - loss: 0.4152 - mse: 0.3885 - val_loss: 0.3997 - val_mse: 0.3449\n",
      "Epoch 19/50\n",
      "38/38 [==============================] - 0s 3ms/step - loss: 0.4138 - mse: 0.3825 - val_loss: 0.4040 - val_mse: 0.3360\n",
      "Epoch 20/50\n",
      "38/38 [==============================] - 0s 6ms/step - loss: 0.4118 - mse: 0.3834 - val_loss: 0.3985 - val_mse: 0.3447\n",
      "Epoch 21/50\n",
      "38/38 [==============================] - 0s 4ms/step - loss: 0.4099 - mse: 0.3827 - val_loss: 0.3960 - val_mse: 0.3453\n",
      "Epoch 22/50\n",
      "38/38 [==============================] - 0s 3ms/step - loss: 0.4087 - mse: 0.3792 - val_loss: 0.3967 - val_mse: 0.3454\n",
      "Epoch 23/50\n",
      "38/38 [==============================] - 0s 3ms/step - loss: 0.4086 - mse: 0.3805 - val_loss: 0.3946 - val_mse: 0.3393\n",
      "Epoch 24/50\n",
      "38/38 [==============================] - 0s 3ms/step - loss: 0.4072 - mse: 0.3769 - val_loss: 0.3957 - val_mse: 0.3417\n",
      "Epoch 25/50\n",
      "38/38 [==============================] - 0s 3ms/step - loss: 0.4085 - mse: 0.3787 - val_loss: 0.3949 - val_mse: 0.3461\n",
      "Epoch 26/50\n",
      "38/38 [==============================] - 0s 3ms/step - loss: 0.4052 - mse: 0.3770 - val_loss: 0.3933 - val_mse: 0.3398\n",
      "Epoch 27/50\n",
      "38/38 [==============================] - 0s 2ms/step - loss: 0.4043 - mse: 0.3783 - val_loss: 0.3938 - val_mse: 0.3410\n",
      "Epoch 28/50\n",
      "38/38 [==============================] - 0s 3ms/step - loss: 0.4039 - mse: 0.3784 - val_loss: 0.3927 - val_mse: 0.3399\n",
      "Epoch 29/50\n",
      "38/38 [==============================] - 0s 3ms/step - loss: 0.4028 - mse: 0.3758 - val_loss: 0.3935 - val_mse: 0.3397\n",
      "Epoch 30/50\n",
      "38/38 [==============================] - 0s 4ms/step - loss: 0.4030 - mse: 0.3754 - val_loss: 0.3928 - val_mse: 0.3427\n",
      "Epoch 31/50\n",
      "38/38 [==============================] - 0s 3ms/step - loss: 0.4019 - mse: 0.3749 - val_loss: 0.3919 - val_mse: 0.3439\n",
      "Epoch 32/50\n",
      "38/38 [==============================] - 0s 3ms/step - loss: 0.4018 - mse: 0.3761 - val_loss: 0.3937 - val_mse: 0.3376\n",
      "Epoch 33/50\n",
      "38/38 [==============================] - 0s 3ms/step - loss: 0.4018 - mse: 0.3721 - val_loss: 0.3936 - val_mse: 0.3516\n",
      "Epoch 34/50\n",
      "38/38 [==============================] - 0s 3ms/step - loss: 0.4018 - mse: 0.3744 - val_loss: 0.3920 - val_mse: 0.3323\n",
      "Epoch 35/50\n",
      "38/38 [==============================] - 0s 3ms/step - loss: 0.4006 - mse: 0.3712 - val_loss: 0.3929 - val_mse: 0.3379\n",
      "Epoch 36/50\n",
      "38/38 [==============================] - 0s 3ms/step - loss: 0.3995 - mse: 0.3743 - val_loss: 0.3897 - val_mse: 0.3397\n",
      "Epoch 37/50\n",
      "38/38 [==============================] - 0s 3ms/step - loss: 0.3980 - mse: 0.3718 - val_loss: 0.3893 - val_mse: 0.3388\n",
      "Epoch 38/50\n",
      "38/38 [==============================] - 0s 3ms/step - loss: 0.3981 - mse: 0.3737 - val_loss: 0.3895 - val_mse: 0.3372\n",
      "Epoch 39/50\n",
      "38/38 [==============================] - 0s 3ms/step - loss: 0.3980 - mse: 0.3686 - val_loss: 0.3897 - val_mse: 0.3429\n",
      "Epoch 40/50\n",
      "38/38 [==============================] - 0s 4ms/step - loss: 0.3979 - mse: 0.3723 - val_loss: 0.3900 - val_mse: 0.3378\n",
      "Epoch 41/50\n",
      "38/38 [==============================] - 0s 2ms/step - loss: 0.3980 - mse: 0.3710 - val_loss: 0.3911 - val_mse: 0.3426\n",
      "Epoch 42/50\n",
      "38/38 [==============================] - 0s 4ms/step - loss: 0.3971 - mse: 0.3694 - val_loss: 0.3912 - val_mse: 0.3448\n",
      "Epoch 43/50\n",
      "38/38 [==============================] - 0s 2ms/step - loss: 0.3959 - mse: 0.3709 - val_loss: 0.3903 - val_mse: 0.3388\n",
      "Epoch 44/50\n",
      "38/38 [==============================] - 0s 2ms/step - loss: 0.3957 - mse: 0.3709 - val_loss: 0.3918 - val_mse: 0.3350\n",
      "Epoch 45/50\n",
      "38/38 [==============================] - 0s 3ms/step - loss: 0.3967 - mse: 0.3719 - val_loss: 0.3906 - val_mse: 0.3356\n",
      "Epoch 46/50\n",
      "38/38 [==============================] - 0s 3ms/step - loss: 0.3949 - mse: 0.3693 - val_loss: 0.3904 - val_mse: 0.3369\n",
      "Epoch 47/50\n",
      "38/38 [==============================] - 0s 3ms/step - loss: 0.3935 - mse: 0.3700 - val_loss: 0.3904 - val_mse: 0.3440\n",
      "Epoch 48/50\n",
      "38/38 [==============================] - 0s 2ms/step - loss: 0.3951 - mse: 0.3688 - val_loss: 0.3961 - val_mse: 0.3473\n",
      "Epoch 49/50\n",
      "38/38 [==============================] - 0s 2ms/step - loss: 0.3953 - mse: 0.3714 - val_loss: 0.3902 - val_mse: 0.3328\n",
      "Epoch 50/50\n",
      "38/38 [==============================] - 0s 2ms/step - loss: 0.3944 - mse: 0.3669 - val_loss: 0.3897 - val_mse: 0.3389\n"
     ]
    }
   ],
   "source": [
    "classifier = Sequential()\n",
    "\n",
    "# Adding the input layer and the first hidden layer\n",
    "classifier.add(Dense(units = 24, kernel_initializer = 'uniform', activation = 'relu', input_dim = 6))\n",
    "\n",
    "# Adding the second hidden layer\n",
    "classifier.add(Dense(units = 24, kernel_initializer = 'uniform', activation = 'relu'))\n",
    "\n",
    "# Adding the output layer\n",
    "classifier.add(Dense(units = 1, kernel_initializer = 'normal', activation = 'linear'))\n",
    "\n",
    "\n",
    "# Compiling the ANN\n",
    "classifier.compile(optimizer = 'adam', loss = 'mean_absolute_error', metrics = ['mse']) \n",
    "\n",
    "# Fitting the ANN to the Training set\n",
    "history = classifier.fit(X_train, y_train, validation_data = (X_test, y_test), batch_size =64, epochs = 50, shuffle = True)"
   ]
  },
  {
   "cell_type": "code",
   "execution_count": 46,
   "metadata": {},
   "outputs": [
    {
     "data": {
      "text/plain": [
       "(0.39345961809158325,\n",
       " 0.3892943561077118,\n",
       " 0.36690133810043335,\n",
       " 0.33228641748428345)"
      ]
     },
     "execution_count": 46,
     "metadata": {},
     "output_type": "execute_result"
    }
   ],
   "source": [
    "min(history.history['loss']),min(history.history['val_loss']),min(history.history['mse']),min(history.history['val_mse'])\n"
   ]
  },
  {
   "cell_type": "code",
   "execution_count": 47,
   "metadata": {},
   "outputs": [
    {
     "name": "stdout",
     "output_type": "stream",
     "text": [
      "Model: \"sequential\"\n",
      "_________________________________________________________________\n",
      "Layer (type)                 Output Shape              Param #   \n",
      "=================================================================\n",
      "dense (Dense)                (None, 24)                168       \n",
      "_________________________________________________________________\n",
      "dense_1 (Dense)              (None, 24)                600       \n",
      "_________________________________________________________________\n",
      "dense_2 (Dense)              (None, 1)                 25        \n",
      "=================================================================\n",
      "Total params: 793\n",
      "Trainable params: 793\n",
      "Non-trainable params: 0\n",
      "_________________________________________________________________\n"
     ]
    }
   ],
   "source": [
    "classifier.summary()"
   ]
  },
  {
   "cell_type": "code",
   "execution_count": 75,
   "metadata": {},
   "outputs": [
    {
     "data": {
      "image/png": "[encoded data removed]",
      "text/plain": [
       "<Figure size 432x288 with 1 Axes>"
      ]
     },
     "metadata": {
      "needs_background": "light"
     },
     "output_type": "display_data"
    }
   ],
   "source": [
    "plt.plot(history.history['loss'], label = 'train')\n",
    "plt.plot(history.history['val_loss'], label = 'test')\n",
    "plt.legend()\n",
    "plt.xlabel(\"epochs\")\n",
    "plt.ylabel(\"loss/val_loss\")\n",
    "plt.savefig(\"Agg_Loss.png\")\n",
    "plt.show()"
   ]
  },
  {
   "cell_type": "code",
   "execution_count": null,
   "metadata": {},
   "outputs": [],
   "source": []
  },
  {
   "cell_type": "code",
   "execution_count": 76,
   "metadata": {},
   "outputs": [
    {
     "data": {
      "image/png": "[encoded data removed]",
      "text/plain": [
       "<Figure size 432x288 with 1 Axes>"
      ]
     },
     "metadata": {
      "needs_background": "light"
     },
     "output_type": "display_data"
    }
   ],
   "source": [
    "plt.plot(history.history['mse'], label = 'train')\n",
    "plt.plot(history.history['val_mse'], label = 'test')\n",
    "plt.legend()\n",
    "plt.xlabel(\"epochs\")\n",
    "plt.ylabel(\"mse/val mse\")\n",
    "plt.savefig(\"Agg_mse.png\")\n",
    "plt.show()"
   ]
  },
  {
   "cell_type": "code",
   "execution_count": 50,
   "metadata": {},
   "outputs": [],
   "source": [
    "y_predicted = classifier.predict(X_test)"
   ]
  },
  {
   "cell_type": "code",
   "execution_count": 51,
   "metadata": {},
   "outputs": [
    {
     "data": {
      "text/plain": [
       "array([[ 0.30680794],\n",
       "       [ 1.603356  ],\n",
       "       [ 0.22763675],\n",
       "       ...,\n",
       "       [-0.7313641 ],\n",
       "       [ 2.0611696 ],\n",
       "       [-0.6928943 ]], dtype=float32)"
      ]
     },
     "execution_count": 51,
     "metadata": {},
     "output_type": "execute_result"
    }
   ],
   "source": [
    "y_predicted"
   ]
  },
  {
   "cell_type": "code",
   "execution_count": 52,
   "metadata": {},
   "outputs": [],
   "source": [
    "#y_predicted = np.argmax(y_predicted, axis = 1)"
   ]
  },
  {
   "cell_type": "code",
   "execution_count": 53,
   "metadata": {},
   "outputs": [],
   "source": [
    "#y_test = np.argmax(y_test, axis = 1)"
   ]
  },
  {
   "cell_type": "code",
   "execution_count": 54,
   "metadata": {},
   "outputs": [
    {
     "data": {
      "text/plain": [
       "309.7201847981347"
      ]
     },
     "execution_count": 54,
     "metadata": {},
     "output_type": "execute_result"
    }
   ],
   "source": [
    "test_sum = y_test.sum()*15\n",
    "test_sum"
   ]
  },
  {
   "cell_type": "code",
   "execution_count": 55,
   "metadata": {},
   "outputs": [
    {
     "data": {
      "text/plain": [
       "1236.4109802246094"
      ]
     },
     "execution_count": 55,
     "metadata": {},
     "output_type": "execute_result"
    }
   ],
   "source": [
    "predicted_sum = y_predicted.sum()*15\n",
    "predicted_sum"
   ]
  },
  {
   "cell_type": "code",
   "execution_count": null,
   "metadata": {},
   "outputs": [],
   "source": []
  },
  {
   "cell_type": "code",
   "execution_count": null,
   "metadata": {},
   "outputs": [],
   "source": []
  },
  {
   "cell_type": "code",
   "execution_count": 56,
   "metadata": {},
   "outputs": [],
   "source": [
    "from sklearn.metrics import mean_absolute_error,f1_score,accuracy_score"
   ]
  },
  {
   "cell_type": "code",
   "execution_count": 57,
   "metadata": {},
   "outputs": [],
   "source": [
    "y_train_predicted = classifier.predict(X_train)\n",
    "# y_train_predicted = np.argmax(y_train_predicted, axis = 1)\n",
    "# y_train = np.argmax(y_train, axis = 1)"
   ]
  },
  {
   "cell_type": "code",
   "execution_count": 58,
   "metadata": {},
   "outputs": [
    {
     "data": {
      "text/plain": [
       "array([[ 0.08278903],\n",
       "       [ 0.670887  ],\n",
       "       [-0.5511532 ],\n",
       "       ...,\n",
       "       [-0.42482856],\n",
       "       [ 0.03414378],\n",
       "       [ 0.31622392]], dtype=float32)"
      ]
     },
     "execution_count": 58,
     "metadata": {},
     "output_type": "execute_result"
    }
   ],
   "source": [
    "y_train_predicted"
   ]
  },
  {
   "cell_type": "code",
   "execution_count": 59,
   "metadata": {},
   "outputs": [
    {
     "data": {
      "text/plain": [
       "array([[-0.8186848 ],\n",
       "       [ 1.15572312],\n",
       "       [-0.7667267 ],\n",
       "       ...,\n",
       "       [-0.29910377],\n",
       "       [-0.48961681],\n",
       "       [ 0.46294841]])"
      ]
     },
     "execution_count": 59,
     "metadata": {},
     "output_type": "execute_result"
    }
   ],
   "source": [
    "y_train"
   ]
  },
  {
   "cell_type": "code",
   "execution_count": 60,
   "metadata": {},
   "outputs": [],
   "source": [
    "cutoff = 0.5                                                      \n",
    "y_pred_classes_train = np.zeros_like(y_train_predicted)    \n",
    "y_pred_classes_train[y_train_predicted > cutoff] = 1 "
   ]
  },
  {
   "cell_type": "code",
   "execution_count": 61,
   "metadata": {},
   "outputs": [],
   "source": [
    "y_train_classes = np.zeros_like(y_train_predicted)\n",
    "y_train_classes[y_train > cutoff] = 1"
   ]
  },
  {
   "cell_type": "code",
   "execution_count": null,
   "metadata": {},
   "outputs": [],
   "source": []
  },
  {
   "cell_type": "code",
   "execution_count": 62,
   "metadata": {},
   "outputs": [
    {
     "data": {
      "text/plain": [
       "array([[1671,  130],\n",
       "       [ 148,  460]])"
      ]
     },
     "execution_count": 62,
     "metadata": {},
     "output_type": "execute_result"
    }
   ],
   "source": [
    "confusion_matrix(y_train_classes,y_pred_classes_train)"
   ]
  },
  {
   "cell_type": "code",
   "execution_count": 63,
   "metadata": {},
   "outputs": [
    {
     "data": {
      "text/plain": [
       "0.8845994188459941"
      ]
     },
     "execution_count": 63,
     "metadata": {},
     "output_type": "execute_result"
    }
   ],
   "source": [
    "accuracy_score(y_train_classes,y_pred_classes_train)"
   ]
  },
  {
   "cell_type": "code",
   "execution_count": 64,
   "metadata": {},
   "outputs": [
    {
     "data": {
      "text/plain": [
       "0.7679465776293823"
      ]
     },
     "execution_count": 64,
     "metadata": {},
     "output_type": "execute_result"
    }
   ],
   "source": [
    "f1_score(y_train_classes,y_pred_classes_train)"
   ]
  },
  {
   "cell_type": "code",
   "execution_count": null,
   "metadata": {},
   "outputs": [],
   "source": []
  },
  {
   "cell_type": "code",
   "execution_count": 65,
   "metadata": {},
   "outputs": [
    {
     "data": {
      "text/plain": [
       "0.3665203967575267"
      ]
     },
     "execution_count": 65,
     "metadata": {},
     "output_type": "execute_result"
    }
   ],
   "source": [
    "from sklearn.metrics import mean_squared_error\n",
    "mean_squared_error(y_train, y_train_predicted)"
   ]
  },
  {
   "cell_type": "code",
   "execution_count": 66,
   "metadata": {},
   "outputs": [
    {
     "data": {
      "text/plain": [
       "0.3906546535341047"
      ]
     },
     "execution_count": 66,
     "metadata": {},
     "output_type": "execute_result"
    }
   ],
   "source": [
    "mean_absolute_error(y_train, y_train_predicted)"
   ]
  },
  {
   "cell_type": "code",
   "execution_count": 67,
   "metadata": {},
   "outputs": [
    {
     "data": {
      "text/plain": [
       "0.3896580289578332"
      ]
     },
     "execution_count": 67,
     "metadata": {},
     "output_type": "execute_result"
    }
   ],
   "source": [
    "mean_absolute_error(y_test, y_predicted)"
   ]
  },
  {
   "cell_type": "code",
   "execution_count": 68,
   "metadata": {},
   "outputs": [
    {
     "name": "stdout",
     "output_type": "stream",
     "text": [
      "0.6054092803695089 0.3906546535341047 0.636220166243147\n"
     ]
    }
   ],
   "source": [
    "rmse = np.sqrt(mean_squared_error(y_train, y_train_predicted))\n",
    "\n",
    "mae = mean_absolute_error(y_train, y_train_predicted)\n",
    "\n",
    "\n",
    "# r_s = r2_score(predict_y,y_auxHeat)\n",
    "r_s = r2_score(y_train, y_train_predicted)\n",
    "\n",
    "print(rmse,mae,r_s)"
   ]
  },
  {
   "cell_type": "code",
   "execution_count": null,
   "metadata": {},
   "outputs": [],
   "source": []
  },
  {
   "cell_type": "code",
   "execution_count": 69,
   "metadata": {},
   "outputs": [],
   "source": [
    "cutoff = 0.5                                                      \n",
    "y_pred_classes = np.zeros_like(y_predicted)    \n",
    "y_pred_classes[y_predicted > cutoff] = 1  "
   ]
  },
  {
   "cell_type": "code",
   "execution_count": 70,
   "metadata": {},
   "outputs": [],
   "source": [
    "y_test_classes = np.zeros_like(y_predicted)\n",
    "y_test_classes[y_test > cutoff] = 1"
   ]
  },
  {
   "cell_type": "code",
   "execution_count": 71,
   "metadata": {},
   "outputs": [
    {
     "data": {
      "text/plain": [
       "array([[695,  56],\n",
       "       [ 73, 209]])"
      ]
     },
     "execution_count": 71,
     "metadata": {},
     "output_type": "execute_result"
    }
   ],
   "source": [
    "confusion_matrix(y_test_classes, y_pred_classes)"
   ]
  },
  {
   "cell_type": "code",
   "execution_count": null,
   "metadata": {},
   "outputs": [],
   "source": []
  },
  {
   "cell_type": "code",
   "execution_count": 72,
   "metadata": {},
   "outputs": [
    {
     "data": {
      "text/plain": [
       "0.8751210067763795"
      ]
     },
     "execution_count": 72,
     "metadata": {},
     "output_type": "execute_result"
    }
   ],
   "source": [
    "accuracy_score(y_test_classes, y_pred_classes)\n"
   ]
  },
  {
   "cell_type": "code",
   "execution_count": null,
   "metadata": {},
   "outputs": [],
   "source": []
  },
  {
   "cell_type": "code",
   "execution_count": 73,
   "metadata": {},
   "outputs": [
    {
     "data": {
      "text/plain": [
       "0.7641681901279708"
      ]
     },
     "execution_count": 73,
     "metadata": {},
     "output_type": "execute_result"
    }
   ],
   "source": [
    "f1_score(y_test_classes, y_pred_classes)"
   ]
  },
  {
   "cell_type": "code",
   "execution_count": 74,
   "metadata": {},
   "outputs": [
    {
     "name": "stdout",
     "output_type": "stream",
     "text": [
      "0.5821589752787051 0.3896580289578332 0.6548297179454938\n"
     ]
    }
   ],
   "source": [
    "rmse = np.sqrt(mean_squared_error(y_test, y_predicted))\n",
    "\n",
    "mae = mean_absolute_error(y_test, y_predicted)\n",
    "\n",
    "\n",
    "# r_s = r2_score(predict_y,y_auxHeat)\n",
    "r_s = r2_score(y_test, y_predicted)\n",
    "\n",
    "print(rmse,mae,r_s)"
   ]
  },
  {
   "cell_type": "code",
   "execution_count": 114,
   "metadata": {},
   "outputs": [
    {
     "data": {
      "text/plain": [
       "0.26951020763936173"
      ]
     },
     "execution_count": 114,
     "metadata": {},
     "output_type": "execute_result"
    }
   ],
   "source": [
    "mean_squared_error(y_test, y_predicted)"
   ]
  },
  {
   "cell_type": "code",
   "execution_count": 115,
   "metadata": {},
   "outputs": [],
   "source": [
    "#Cross Validation"
   ]
  },
  {
   "cell_type": "code",
   "execution_count": 116,
   "metadata": {},
   "outputs": [],
   "source": [
    "from sklearn.model_selection import cross_validate, GridSearchCV\n",
    "from keras.wrappers.scikit_learn import KerasClassifier"
   ]
  },
  {
   "cell_type": "code",
   "execution_count": 108,
   "metadata": {},
   "outputs": [],
   "source": [
    "df = house_data"
   ]
  },
  {
   "cell_type": "code",
   "execution_count": 109,
   "metadata": {},
   "outputs": [
    {
     "data": {
      "text/html": [
       "<div>\n",
       "<style scoped>\n",
       "    .dataframe tbody tr th:only-of-type {\n",
       "        vertical-align: middle;\n",
       "    }\n",
       "\n",
       "    .dataframe tbody tr th {\n",
       "        vertical-align: top;\n",
       "    }\n",
       "\n",
       "    .dataframe thead th {\n",
       "        text-align: right;\n",
       "    }\n",
       "</style>\n",
       "<table border=\"1\" class=\"dataframe\">\n",
       "  <thead>\n",
       "    <tr style=\"text-align: right;\">\n",
       "      <th></th>\n",
       "      <th>Month</th>\n",
       "      <th>Day</th>\n",
       "      <th>HourofDay</th>\n",
       "      <th>T_ctrl</th>\n",
       "      <th>T_stp_heat</th>\n",
       "      <th>T_out</th>\n",
       "      <th>RH_out</th>\n",
       "      <th>Humidity</th>\n",
       "      <th>fan</th>\n",
       "      <th>auxHeat1</th>\n",
       "      <th>combined</th>\n",
       "    </tr>\n",
       "  </thead>\n",
       "  <tbody>\n",
       "    <tr>\n",
       "      <th>0</th>\n",
       "      <td>1</td>\n",
       "      <td>1</td>\n",
       "      <td>0</td>\n",
       "      <td>69.016667</td>\n",
       "      <td>65.600000</td>\n",
       "      <td>33.3</td>\n",
       "      <td>93.0</td>\n",
       "      <td>38.466667</td>\n",
       "      <td>60.00</td>\n",
       "      <td>960.0</td>\n",
       "      <td>1_1_0</td>\n",
       "    </tr>\n",
       "    <tr>\n",
       "      <th>1</th>\n",
       "      <td>1</td>\n",
       "      <td>1</td>\n",
       "      <td>1</td>\n",
       "      <td>68.566667</td>\n",
       "      <td>65.600000</td>\n",
       "      <td>33.4</td>\n",
       "      <td>91.8</td>\n",
       "      <td>38.233333</td>\n",
       "      <td>63.75</td>\n",
       "      <td>1500.0</td>\n",
       "      <td>1_1_1</td>\n",
       "    </tr>\n",
       "    <tr>\n",
       "      <th>2</th>\n",
       "      <td>1</td>\n",
       "      <td>1</td>\n",
       "      <td>2</td>\n",
       "      <td>68.166667</td>\n",
       "      <td>65.600000</td>\n",
       "      <td>32.9</td>\n",
       "      <td>89.4</td>\n",
       "      <td>37.700000</td>\n",
       "      <td>76.50</td>\n",
       "      <td>2475.0</td>\n",
       "      <td>1_1_2</td>\n",
       "    </tr>\n",
       "    <tr>\n",
       "      <th>3</th>\n",
       "      <td>1</td>\n",
       "      <td>1</td>\n",
       "      <td>3</td>\n",
       "      <td>68.000000</td>\n",
       "      <td>65.600000</td>\n",
       "      <td>31.1</td>\n",
       "      <td>87.0</td>\n",
       "      <td>37.516667</td>\n",
       "      <td>88.25</td>\n",
       "      <td>3045.0</td>\n",
       "      <td>1_1_3</td>\n",
       "    </tr>\n",
       "    <tr>\n",
       "      <th>4</th>\n",
       "      <td>1</td>\n",
       "      <td>1</td>\n",
       "      <td>4</td>\n",
       "      <td>67.866667</td>\n",
       "      <td>65.616667</td>\n",
       "      <td>29.8</td>\n",
       "      <td>83.6</td>\n",
       "      <td>36.950000</td>\n",
       "      <td>112.25</td>\n",
       "      <td>4515.0</td>\n",
       "      <td>1_1_4</td>\n",
       "    </tr>\n",
       "  </tbody>\n",
       "</table>\n",
       "</div>"
      ],
      "text/plain": [
       "   Month  Day  HourofDay     T_ctrl  T_stp_heat  T_out  RH_out   Humidity  \\\n",
       "0      1    1          0  69.016667   65.600000   33.3    93.0  38.466667   \n",
       "1      1    1          1  68.566667   65.600000   33.4    91.8  38.233333   \n",
       "2      1    1          2  68.166667   65.600000   32.9    89.4  37.700000   \n",
       "3      1    1          3  68.000000   65.600000   31.1    87.0  37.516667   \n",
       "4      1    1          4  67.866667   65.616667   29.8    83.6  36.950000   \n",
       "\n",
       "      fan  auxHeat1 combined  \n",
       "0   60.00     960.0    1_1_0  \n",
       "1   63.75    1500.0    1_1_1  \n",
       "2   76.50    2475.0    1_1_2  \n",
       "3   88.25    3045.0    1_1_3  \n",
       "4  112.25    4515.0    1_1_4  "
      ]
     },
     "execution_count": 109,
     "metadata": {},
     "output_type": "execute_result"
    }
   ],
   "source": [
    "df.head()"
   ]
  },
  {
   "cell_type": "code",
   "execution_count": 110,
   "metadata": {},
   "outputs": [],
   "source": [
    "y_auxHeat = df[['auxHeat1']].to_numpy()\n",
    "# oe = OrdinalEncoder()\n",
    "# y_auxHeat = oe.fit_transform(y_auxHeat.reshape(-1, 1))"
   ]
  },
  {
   "cell_type": "code",
   "execution_count": 111,
   "metadata": {},
   "outputs": [
    {
     "data": {
      "text/html": [
       "<div>\n",
       "<style scoped>\n",
       "    .dataframe tbody tr th:only-of-type {\n",
       "        vertical-align: middle;\n",
       "    }\n",
       "\n",
       "    .dataframe tbody tr th {\n",
       "        vertical-align: top;\n",
       "    }\n",
       "\n",
       "    .dataframe thead th {\n",
       "        text-align: right;\n",
       "    }\n",
       "</style>\n",
       "<table border=\"1\" class=\"dataframe\">\n",
       "  <thead>\n",
       "    <tr style=\"text-align: right;\">\n",
       "      <th></th>\n",
       "      <th>var1(t-6)</th>\n",
       "      <th>var2(t-6)</th>\n",
       "      <th>var3(t-6)</th>\n",
       "      <th>var4(t-6)</th>\n",
       "      <th>var5(t-6)</th>\n",
       "      <th>var6(t-6)</th>\n",
       "      <th>var7(t-6)</th>\n",
       "      <th>var8(t-6)</th>\n",
       "      <th>var1(t-5)</th>\n",
       "      <th>var2(t-5)</th>\n",
       "      <th>...</th>\n",
       "      <th>var7(t-1)</th>\n",
       "      <th>var8(t-1)</th>\n",
       "      <th>var1(t)</th>\n",
       "      <th>var2(t)</th>\n",
       "      <th>var3(t)</th>\n",
       "      <th>var4(t)</th>\n",
       "      <th>var5(t)</th>\n",
       "      <th>var6(t)</th>\n",
       "      <th>var7(t)</th>\n",
       "      <th>var8(t)</th>\n",
       "    </tr>\n",
       "  </thead>\n",
       "  <tbody>\n",
       "    <tr>\n",
       "      <th>6</th>\n",
       "      <td>0.320399</td>\n",
       "      <td>-0.913596</td>\n",
       "      <td>0.173717</td>\n",
       "      <td>1.638857</td>\n",
       "      <td>0.729814</td>\n",
       "      <td>-1.862050</td>\n",
       "      <td>960.0</td>\n",
       "      <td>1_1_0</td>\n",
       "      <td>-0.036334</td>\n",
       "      <td>-0.913596</td>\n",
       "      <td>...</td>\n",
       "      <td>6855.0</td>\n",
       "      <td>1_1_5</td>\n",
       "      <td>0.161851</td>\n",
       "      <td>-0.198943</td>\n",
       "      <td>-0.151102</td>\n",
       "      <td>0.432217</td>\n",
       "      <td>0.493934</td>\n",
       "      <td>0.097989</td>\n",
       "      <td>6615.0</td>\n",
       "      <td>1_1_6</td>\n",
       "    </tr>\n",
       "    <tr>\n",
       "      <th>7</th>\n",
       "      <td>-0.036334</td>\n",
       "      <td>-0.913596</td>\n",
       "      <td>0.181837</td>\n",
       "      <td>1.543596</td>\n",
       "      <td>0.697438</td>\n",
       "      <td>-1.759965</td>\n",
       "      <td>1500.0</td>\n",
       "      <td>1_1_1</td>\n",
       "      <td>-0.353430</td>\n",
       "      <td>-0.913596</td>\n",
       "      <td>...</td>\n",
       "      <td>6615.0</td>\n",
       "      <td>1_1_6</td>\n",
       "      <td>0.320399</td>\n",
       "      <td>0.295139</td>\n",
       "      <td>-0.159223</td>\n",
       "      <td>0.297264</td>\n",
       "      <td>0.440745</td>\n",
       "      <td>-0.718694</td>\n",
       "      <td>8145.0</td>\n",
       "      <td>1_1_7</td>\n",
       "    </tr>\n",
       "    <tr>\n",
       "      <th>8</th>\n",
       "      <td>-0.353430</td>\n",
       "      <td>-0.913596</td>\n",
       "      <td>0.141235</td>\n",
       "      <td>1.353074</td>\n",
       "      <td>0.623437</td>\n",
       "      <td>-1.412874</td>\n",
       "      <td>2475.0</td>\n",
       "      <td>1_1_2</td>\n",
       "      <td>-0.485554</td>\n",
       "      <td>-0.913596</td>\n",
       "      <td>...</td>\n",
       "      <td>8145.0</td>\n",
       "      <td>1_1_7</td>\n",
       "      <td>0.571434</td>\n",
       "      <td>0.206910</td>\n",
       "      <td>-0.183584</td>\n",
       "      <td>0.329018</td>\n",
       "      <td>0.378306</td>\n",
       "      <td>-1.167870</td>\n",
       "      <td>4965.0</td>\n",
       "      <td>1_1_8</td>\n",
       "    </tr>\n",
       "    <tr>\n",
       "      <th>9</th>\n",
       "      <td>-0.485554</td>\n",
       "      <td>-0.913596</td>\n",
       "      <td>-0.004934</td>\n",
       "      <td>1.162552</td>\n",
       "      <td>0.597998</td>\n",
       "      <td>-1.093007</td>\n",
       "      <td>3045.0</td>\n",
       "      <td>1_1_3</td>\n",
       "      <td>-0.591253</td>\n",
       "      <td>-0.904773</td>\n",
       "      <td>...</td>\n",
       "      <td>4965.0</td>\n",
       "      <td>1_1_8</td>\n",
       "      <td>0.293975</td>\n",
       "      <td>-0.481275</td>\n",
       "      <td>-0.289151</td>\n",
       "      <td>0.321079</td>\n",
       "      <td>0.343618</td>\n",
       "      <td>-0.841196</td>\n",
       "      <td>3465.0</td>\n",
       "      <td>1_1_9</td>\n",
       "    </tr>\n",
       "    <tr>\n",
       "      <th>10</th>\n",
       "      <td>-0.591253</td>\n",
       "      <td>-0.904773</td>\n",
       "      <td>-0.110500</td>\n",
       "      <td>0.892646</td>\n",
       "      <td>0.519372</td>\n",
       "      <td>-0.439661</td>\n",
       "      <td>4515.0</td>\n",
       "      <td>1_1_4</td>\n",
       "      <td>-0.525191</td>\n",
       "      <td>-0.807722</td>\n",
       "      <td>...</td>\n",
       "      <td>3465.0</td>\n",
       "      <td>1_1_9</td>\n",
       "      <td>0.545009</td>\n",
       "      <td>0.595117</td>\n",
       "      <td>-0.256669</td>\n",
       "      <td>0.249633</td>\n",
       "      <td>0.394494</td>\n",
       "      <td>-1.365235</td>\n",
       "      <td>4125.0</td>\n",
       "      <td>1_1_10</td>\n",
       "    </tr>\n",
       "    <tr>\n",
       "      <th>...</th>\n",
       "      <td>...</td>\n",
       "      <td>...</td>\n",
       "      <td>...</td>\n",
       "      <td>...</td>\n",
       "      <td>...</td>\n",
       "      <td>...</td>\n",
       "      <td>...</td>\n",
       "      <td>...</td>\n",
       "      <td>...</td>\n",
       "      <td>...</td>\n",
       "      <td>...</td>\n",
       "      <td>...</td>\n",
       "      <td>...</td>\n",
       "      <td>...</td>\n",
       "      <td>...</td>\n",
       "      <td>...</td>\n",
       "      <td>...</td>\n",
       "      <td>...</td>\n",
       "      <td>...</td>\n",
       "      <td>...</td>\n",
       "      <td>...</td>\n",
       "    </tr>\n",
       "    <tr>\n",
       "      <th>4426</th>\n",
       "      <td>0.318197</td>\n",
       "      <td>0.621586</td>\n",
       "      <td>0.074918</td>\n",
       "      <td>1.175783</td>\n",
       "      <td>0.586050</td>\n",
       "      <td>1.098425</td>\n",
       "      <td>2790.0</td>\n",
       "      <td>12_31_13</td>\n",
       "      <td>0.219105</td>\n",
       "      <td>0.621586</td>\n",
       "      <td>...</td>\n",
       "      <td>3750.0</td>\n",
       "      <td>12_31_18</td>\n",
       "      <td>1.022856</td>\n",
       "      <td>0.283375</td>\n",
       "      <td>0.007247</td>\n",
       "      <td>0.673016</td>\n",
       "      <td>0.466568</td>\n",
       "      <td>1.053054</td>\n",
       "      <td>5325.0</td>\n",
       "      <td>12_31_19</td>\n",
       "    </tr>\n",
       "    <tr>\n",
       "      <th>4427</th>\n",
       "      <td>0.219105</td>\n",
       "      <td>0.621586</td>\n",
       "      <td>-0.013054</td>\n",
       "      <td>0.937630</td>\n",
       "      <td>0.522455</td>\n",
       "      <td>1.699594</td>\n",
       "      <td>3900.0</td>\n",
       "      <td>12_31_14</td>\n",
       "      <td>0.164053</td>\n",
       "      <td>0.643643</td>\n",
       "      <td>...</td>\n",
       "      <td>5325.0</td>\n",
       "      <td>12_31_19</td>\n",
       "      <td>1.243062</td>\n",
       "      <td>0.268670</td>\n",
       "      <td>-0.060424</td>\n",
       "      <td>0.725939</td>\n",
       "      <td>0.611103</td>\n",
       "      <td>0.695755</td>\n",
       "      <td>240.0</td>\n",
       "      <td>12_31_20</td>\n",
       "    </tr>\n",
       "    <tr>\n",
       "      <th>4428</th>\n",
       "      <td>0.164053</td>\n",
       "      <td>0.643643</td>\n",
       "      <td>0.054616</td>\n",
       "      <td>0.421633</td>\n",
       "      <td>0.549435</td>\n",
       "      <td>0.905597</td>\n",
       "      <td>2670.0</td>\n",
       "      <td>12_31_15</td>\n",
       "      <td>0.417290</td>\n",
       "      <td>1.327417</td>\n",
       "      <td>...</td>\n",
       "      <td>240.0</td>\n",
       "      <td>12_31_20</td>\n",
       "      <td>0.835681</td>\n",
       "      <td>0.246613</td>\n",
       "      <td>-0.134861</td>\n",
       "      <td>0.467940</td>\n",
       "      <td>0.564852</td>\n",
       "      <td>-0.024514</td>\n",
       "      <td>3090.0</td>\n",
       "      <td>12_31_21</td>\n",
       "    </tr>\n",
       "    <tr>\n",
       "      <th>4429</th>\n",
       "      <td>0.417290</td>\n",
       "      <td>1.327417</td>\n",
       "      <td>0.122287</td>\n",
       "      <td>0.302556</td>\n",
       "      <td>0.481985</td>\n",
       "      <td>1.285582</td>\n",
       "      <td>9120.0</td>\n",
       "      <td>12_31_16</td>\n",
       "      <td>1.055887</td>\n",
       "      <td>1.489169</td>\n",
       "      <td>...</td>\n",
       "      <td>3090.0</td>\n",
       "      <td>12_31_21</td>\n",
       "      <td>0.868712</td>\n",
       "      <td>-0.275408</td>\n",
       "      <td>-0.094259</td>\n",
       "      <td>0.249633</td>\n",
       "      <td>0.547508</td>\n",
       "      <td>0.673070</td>\n",
       "      <td>930.0</td>\n",
       "      <td>12_31_22</td>\n",
       "    </tr>\n",
       "    <tr>\n",
       "      <th>4430</th>\n",
       "      <td>1.055887</td>\n",
       "      <td>1.489169</td>\n",
       "      <td>0.095219</td>\n",
       "      <td>0.408402</td>\n",
       "      <td>0.507038</td>\n",
       "      <td>-0.183313</td>\n",
       "      <td>4995.0</td>\n",
       "      <td>12_31_17</td>\n",
       "      <td>1.055887</td>\n",
       "      <td>1.445055</td>\n",
       "      <td>...</td>\n",
       "      <td>930.0</td>\n",
       "      <td>12_31_22</td>\n",
       "      <td>0.747599</td>\n",
       "      <td>-0.922419</td>\n",
       "      <td>-0.067191</td>\n",
       "      <td>0.084250</td>\n",
       "      <td>0.518601</td>\n",
       "      <td>1.081411</td>\n",
       "      <td>2235.0</td>\n",
       "      <td>12_31_23</td>\n",
       "    </tr>\n",
       "  </tbody>\n",
       "</table>\n",
       "<p>4425 rows × 56 columns</p>\n",
       "</div>"
      ],
      "text/plain": [
       "      var1(t-6)  var2(t-6)  var3(t-6)  var4(t-6)  var5(t-6)  var6(t-6)  \\\n",
       "6      0.320399  -0.913596   0.173717   1.638857   0.729814  -1.862050   \n",
       "7     -0.036334  -0.913596   0.181837   1.543596   0.697438  -1.759965   \n",
       "8     -0.353430  -0.913596   0.141235   1.353074   0.623437  -1.412874   \n",
       "9     -0.485554  -0.913596  -0.004934   1.162552   0.597998  -1.093007   \n",
       "10    -0.591253  -0.904773  -0.110500   0.892646   0.519372  -0.439661   \n",
       "...         ...        ...        ...        ...        ...        ...   \n",
       "4426   0.318197   0.621586   0.074918   1.175783   0.586050   1.098425   \n",
       "4427   0.219105   0.621586  -0.013054   0.937630   0.522455   1.699594   \n",
       "4428   0.164053   0.643643   0.054616   0.421633   0.549435   0.905597   \n",
       "4429   0.417290   1.327417   0.122287   0.302556   0.481985   1.285582   \n",
       "4430   1.055887   1.489169   0.095219   0.408402   0.507038  -0.183313   \n",
       "\n",
       "      var7(t-6) var8(t-6)  var1(t-5)  var2(t-5)  ...  var7(t-1)  var8(t-1)  \\\n",
       "6         960.0     1_1_0  -0.036334  -0.913596  ...     6855.0      1_1_5   \n",
       "7        1500.0     1_1_1  -0.353430  -0.913596  ...     6615.0      1_1_6   \n",
       "8        2475.0     1_1_2  -0.485554  -0.913596  ...     8145.0      1_1_7   \n",
       "9        3045.0     1_1_3  -0.591253  -0.904773  ...     4965.0      1_1_8   \n",
       "10       4515.0     1_1_4  -0.525191  -0.807722  ...     3465.0      1_1_9   \n",
       "...         ...       ...        ...        ...  ...        ...        ...   \n",
       "4426     2790.0  12_31_13   0.219105   0.621586  ...     3750.0   12_31_18   \n",
       "4427     3900.0  12_31_14   0.164053   0.643643  ...     5325.0   12_31_19   \n",
       "4428     2670.0  12_31_15   0.417290   1.327417  ...      240.0   12_31_20   \n",
       "4429     9120.0  12_31_16   1.055887   1.489169  ...     3090.0   12_31_21   \n",
       "4430     4995.0  12_31_17   1.055887   1.445055  ...      930.0   12_31_22   \n",
       "\n",
       "       var1(t)   var2(t)   var3(t)   var4(t)   var5(t)   var6(t)  var7(t)  \\\n",
       "6     0.161851 -0.198943 -0.151102  0.432217  0.493934  0.097989   6615.0   \n",
       "7     0.320399  0.295139 -0.159223  0.297264  0.440745 -0.718694   8145.0   \n",
       "8     0.571434  0.206910 -0.183584  0.329018  0.378306 -1.167870   4965.0   \n",
       "9     0.293975 -0.481275 -0.289151  0.321079  0.343618 -0.841196   3465.0   \n",
       "10    0.545009  0.595117 -0.256669  0.249633  0.394494 -1.365235   4125.0   \n",
       "...        ...       ...       ...       ...       ...       ...      ...   \n",
       "4426  1.022856  0.283375  0.007247  0.673016  0.466568  1.053054   5325.0   \n",
       "4427  1.243062  0.268670 -0.060424  0.725939  0.611103  0.695755    240.0   \n",
       "4428  0.835681  0.246613 -0.134861  0.467940  0.564852 -0.024514   3090.0   \n",
       "4429  0.868712 -0.275408 -0.094259  0.249633  0.547508  0.673070    930.0   \n",
       "4430  0.747599 -0.922419 -0.067191  0.084250  0.518601  1.081411   2235.0   \n",
       "\n",
       "       var8(t)  \n",
       "6        1_1_6  \n",
       "7        1_1_7  \n",
       "8        1_1_8  \n",
       "9        1_1_9  \n",
       "10      1_1_10  \n",
       "...        ...  \n",
       "4426  12_31_19  \n",
       "4427  12_31_20  \n",
       "4428  12_31_21  \n",
       "4429  12_31_22  \n",
       "4430  12_31_23  \n",
       "\n",
       "[4425 rows x 56 columns]"
      ]
     },
     "execution_count": 111,
     "metadata": {},
     "output_type": "execute_result"
    }
   ],
   "source": [
    "reframed = series_to_supervised(s, 6, 1)\n",
    "reframed"
   ]
  },
  {
   "cell_type": "code",
   "execution_count": 112,
   "metadata": {},
   "outputs": [],
   "source": [
    "reframed = reframed.drop(['var8(t-6)','var8(t-5)','var8(t-4)','var8(t-3)','var8(t-2)','var8(t-1)'], axis=1)"
   ]
  },
  {
   "cell_type": "code",
   "execution_count": 113,
   "metadata": {},
   "outputs": [],
   "source": [
    "df_merge  = pd.merge(left=reframed, right=weather_scalar_data, left_on=['var8(t)'],right_on=['combined'],how='left')"
   ]
  },
  {
   "cell_type": "code",
   "execution_count": 114,
   "metadata": {},
   "outputs": [
    {
     "data": {
      "text/html": [
       "<div>\n",
       "<style scoped>\n",
       "    .dataframe tbody tr th:only-of-type {\n",
       "        vertical-align: middle;\n",
       "    }\n",
       "\n",
       "    .dataframe tbody tr th {\n",
       "        vertical-align: top;\n",
       "    }\n",
       "\n",
       "    .dataframe thead th {\n",
       "        text-align: right;\n",
       "    }\n",
       "</style>\n",
       "<table border=\"1\" class=\"dataframe\">\n",
       "  <thead>\n",
       "    <tr style=\"text-align: right;\">\n",
       "      <th></th>\n",
       "      <th>var1(t-6)</th>\n",
       "      <th>var2(t-6)</th>\n",
       "      <th>var3(t-6)</th>\n",
       "      <th>var4(t-6)</th>\n",
       "      <th>var5(t-6)</th>\n",
       "      <th>var6(t-6)</th>\n",
       "      <th>var7(t-6)</th>\n",
       "      <th>var1(t-5)</th>\n",
       "      <th>var2(t-5)</th>\n",
       "      <th>var3(t-5)</th>\n",
       "      <th>...</th>\n",
       "      <th>var8(t)</th>\n",
       "      <th>Temp</th>\n",
       "      <th>Dew_Point_Temp</th>\n",
       "      <th>Rel_Hum</th>\n",
       "      <th>Wind_Dir</th>\n",
       "      <th>Wind_Spd</th>\n",
       "      <th>Visibility</th>\n",
       "      <th>Stn_Press</th>\n",
       "      <th>Hmdx</th>\n",
       "      <th>Wind Chill</th>\n",
       "    </tr>\n",
       "  </thead>\n",
       "  <tbody>\n",
       "    <tr>\n",
       "      <th>0</th>\n",
       "      <td>0.320399</td>\n",
       "      <td>-0.913596</td>\n",
       "      <td>0.173717</td>\n",
       "      <td>1.638857</td>\n",
       "      <td>0.729814</td>\n",
       "      <td>-1.862050</td>\n",
       "      <td>960.0</td>\n",
       "      <td>-0.036334</td>\n",
       "      <td>-0.913596</td>\n",
       "      <td>0.181837</td>\n",
       "      <td>...</td>\n",
       "      <td>1_1_6</td>\n",
       "      <td>0.090097</td>\n",
       "      <td>0.44685</td>\n",
       "      <td>1.066551</td>\n",
       "      <td>1.363452</td>\n",
       "      <td>1.724502</td>\n",
       "      <td>0.500385</td>\n",
       "      <td>-0.907114</td>\n",
       "      <td>-1.877936</td>\n",
       "      <td>-0.462542</td>\n",
       "    </tr>\n",
       "    <tr>\n",
       "      <th>1</th>\n",
       "      <td>-0.036334</td>\n",
       "      <td>-0.913596</td>\n",
       "      <td>0.181837</td>\n",
       "      <td>1.543596</td>\n",
       "      <td>0.697438</td>\n",
       "      <td>-1.759965</td>\n",
       "      <td>1500.0</td>\n",
       "      <td>-0.353430</td>\n",
       "      <td>-0.913596</td>\n",
       "      <td>0.141235</td>\n",
       "      <td>...</td>\n",
       "      <td>1_1_7</td>\n",
       "      <td>0.050698</td>\n",
       "      <td>0.360681</td>\n",
       "      <td>0.859373</td>\n",
       "      <td>1.363452</td>\n",
       "      <td>0.815838</td>\n",
       "      <td>0.500385</td>\n",
       "      <td>-0.624161</td>\n",
       "      <td>-1.877936</td>\n",
       "      <td>-0.462542</td>\n",
       "    </tr>\n",
       "    <tr>\n",
       "      <th>2</th>\n",
       "      <td>-0.353430</td>\n",
       "      <td>-0.913596</td>\n",
       "      <td>0.141235</td>\n",
       "      <td>1.353074</td>\n",
       "      <td>0.623437</td>\n",
       "      <td>-1.412874</td>\n",
       "      <td>2475.0</td>\n",
       "      <td>-0.485554</td>\n",
       "      <td>-0.913596</td>\n",
       "      <td>-0.004934</td>\n",
       "      <td>...</td>\n",
       "      <td>1_1_8</td>\n",
       "      <td>0.024431</td>\n",
       "      <td>0.274513</td>\n",
       "      <td>0.721255</td>\n",
       "      <td>1.265486</td>\n",
       "      <td>0.9168</td>\n",
       "      <td>0.500385</td>\n",
       "      <td>-0.297676</td>\n",
       "      <td>-1.877936</td>\n",
       "      <td>-0.462542</td>\n",
       "    </tr>\n",
       "    <tr>\n",
       "      <th>3</th>\n",
       "      <td>-0.485554</td>\n",
       "      <td>-0.913596</td>\n",
       "      <td>-0.004934</td>\n",
       "      <td>1.162552</td>\n",
       "      <td>0.597998</td>\n",
       "      <td>-1.093007</td>\n",
       "      <td>3045.0</td>\n",
       "      <td>-0.591253</td>\n",
       "      <td>-0.904773</td>\n",
       "      <td>-0.110500</td>\n",
       "      <td>...</td>\n",
       "      <td>1_1_9</td>\n",
       "      <td>-0.054368</td>\n",
       "      <td>0.151415</td>\n",
       "      <td>0.514077</td>\n",
       "      <td>1.461418</td>\n",
       "      <td>0.311024</td>\n",
       "      <td>0.500385</td>\n",
       "      <td>-0.014722</td>\n",
       "      <td>-1.877936</td>\n",
       "      <td>-0.462542</td>\n",
       "    </tr>\n",
       "    <tr>\n",
       "      <th>4</th>\n",
       "      <td>-0.591253</td>\n",
       "      <td>-0.904773</td>\n",
       "      <td>-0.110500</td>\n",
       "      <td>0.892646</td>\n",
       "      <td>0.519372</td>\n",
       "      <td>-0.439661</td>\n",
       "      <td>4515.0</td>\n",
       "      <td>-0.525191</td>\n",
       "      <td>-0.807722</td>\n",
       "      <td>-0.126741</td>\n",
       "      <td>...</td>\n",
       "      <td>1_1_10</td>\n",
       "      <td>-0.120034</td>\n",
       "      <td>0.040626</td>\n",
       "      <td>0.306899</td>\n",
       "      <td>1.363452</td>\n",
       "      <td>1.118726</td>\n",
       "      <td>0.500385</td>\n",
       "      <td>0.061458</td>\n",
       "      <td>-1.877936</td>\n",
       "      <td>0.429985</td>\n",
       "    </tr>\n",
       "    <tr>\n",
       "      <th>...</th>\n",
       "      <td>...</td>\n",
       "      <td>...</td>\n",
       "      <td>...</td>\n",
       "      <td>...</td>\n",
       "      <td>...</td>\n",
       "      <td>...</td>\n",
       "      <td>...</td>\n",
       "      <td>...</td>\n",
       "      <td>...</td>\n",
       "      <td>...</td>\n",
       "      <td>...</td>\n",
       "      <td>...</td>\n",
       "      <td>...</td>\n",
       "      <td>...</td>\n",
       "      <td>...</td>\n",
       "      <td>...</td>\n",
       "      <td>...</td>\n",
       "      <td>...</td>\n",
       "      <td>...</td>\n",
       "      <td>...</td>\n",
       "      <td>...</td>\n",
       "    </tr>\n",
       "    <tr>\n",
       "      <th>4420</th>\n",
       "      <td>0.318197</td>\n",
       "      <td>0.621586</td>\n",
       "      <td>0.074918</td>\n",
       "      <td>1.175783</td>\n",
       "      <td>0.586050</td>\n",
       "      <td>1.098425</td>\n",
       "      <td>2790.0</td>\n",
       "      <td>0.219105</td>\n",
       "      <td>0.621586</td>\n",
       "      <td>-0.013054</td>\n",
       "      <td>...</td>\n",
       "      <td>12_31_19</td>\n",
       "      <td>-0.2251</td>\n",
       "      <td>0.016007</td>\n",
       "      <td>0.583136</td>\n",
       "      <td>0.481761</td>\n",
       "      <td>0.311024</td>\n",
       "      <td>0.500385</td>\n",
       "      <td>-1.799507</td>\n",
       "      <td>-0.685953</td>\n",
       "      <td>0.251479</td>\n",
       "    </tr>\n",
       "    <tr>\n",
       "      <th>4421</th>\n",
       "      <td>0.219105</td>\n",
       "      <td>0.621586</td>\n",
       "      <td>-0.013054</td>\n",
       "      <td>0.937630</td>\n",
       "      <td>0.522455</td>\n",
       "      <td>1.699594</td>\n",
       "      <td>3900.0</td>\n",
       "      <td>0.164053</td>\n",
       "      <td>0.643643</td>\n",
       "      <td>0.054616</td>\n",
       "      <td>...</td>\n",
       "      <td>12_31_20</td>\n",
       "      <td>-0.251366</td>\n",
       "      <td>-0.033233</td>\n",
       "      <td>0.514077</td>\n",
       "      <td>0.481761</td>\n",
       "      <td>0.210061</td>\n",
       "      <td>0.500385</td>\n",
       "      <td>-1.755975</td>\n",
       "      <td>-0.685953</td>\n",
       "      <td>0.251479</td>\n",
       "    </tr>\n",
       "    <tr>\n",
       "      <th>4422</th>\n",
       "      <td>0.164053</td>\n",
       "      <td>0.643643</td>\n",
       "      <td>0.054616</td>\n",
       "      <td>0.421633</td>\n",
       "      <td>0.549435</td>\n",
       "      <td>0.905597</td>\n",
       "      <td>2670.0</td>\n",
       "      <td>0.417290</td>\n",
       "      <td>1.327417</td>\n",
       "      <td>0.122287</td>\n",
       "      <td>...</td>\n",
       "      <td>12_31_21</td>\n",
       "      <td>-0.264499</td>\n",
       "      <td>-0.070162</td>\n",
       "      <td>0.445017</td>\n",
       "      <td>0.579727</td>\n",
       "      <td>0.613912</td>\n",
       "      <td>0.500385</td>\n",
       "      <td>-1.745093</td>\n",
       "      <td>-0.685953</td>\n",
       "      <td>0.251479</td>\n",
       "    </tr>\n",
       "    <tr>\n",
       "      <th>4423</th>\n",
       "      <td>0.417290</td>\n",
       "      <td>1.327417</td>\n",
       "      <td>0.122287</td>\n",
       "      <td>0.302556</td>\n",
       "      <td>0.481985</td>\n",
       "      <td>1.285582</td>\n",
       "      <td>9120.0</td>\n",
       "      <td>1.055887</td>\n",
       "      <td>1.489169</td>\n",
       "      <td>0.095219</td>\n",
       "      <td>...</td>\n",
       "      <td>12_31_22</td>\n",
       "      <td>-0.317032</td>\n",
       "      <td>-0.070162</td>\n",
       "      <td>0.583136</td>\n",
       "      <td>0.481761</td>\n",
       "      <td>0.008136</td>\n",
       "      <td>0.500385</td>\n",
       "      <td>-1.701561</td>\n",
       "      <td>-0.685953</td>\n",
       "      <td>0.251479</td>\n",
       "    </tr>\n",
       "    <tr>\n",
       "      <th>4424</th>\n",
       "      <td>1.055887</td>\n",
       "      <td>1.489169</td>\n",
       "      <td>0.095219</td>\n",
       "      <td>0.408402</td>\n",
       "      <td>0.507038</td>\n",
       "      <td>-0.183313</td>\n",
       "      <td>4995.0</td>\n",
       "      <td>1.055887</td>\n",
       "      <td>1.445055</td>\n",
       "      <td>0.095219</td>\n",
       "      <td>...</td>\n",
       "      <td>12_31_23</td>\n",
       "      <td>-0.277632</td>\n",
       "      <td>-0.045542</td>\n",
       "      <td>0.583136</td>\n",
       "      <td>0.677692</td>\n",
       "      <td>0.815838</td>\n",
       "      <td>0.500385</td>\n",
       "      <td>-1.679796</td>\n",
       "      <td>-0.685953</td>\n",
       "      <td>0.072974</td>\n",
       "    </tr>\n",
       "  </tbody>\n",
       "</table>\n",
       "<p>4425 rows × 59 columns</p>\n",
       "</div>"
      ],
      "text/plain": [
       "      var1(t-6)  var2(t-6)  var3(t-6)  var4(t-6)  var5(t-6)  var6(t-6)  \\\n",
       "0      0.320399  -0.913596   0.173717   1.638857   0.729814  -1.862050   \n",
       "1     -0.036334  -0.913596   0.181837   1.543596   0.697438  -1.759965   \n",
       "2     -0.353430  -0.913596   0.141235   1.353074   0.623437  -1.412874   \n",
       "3     -0.485554  -0.913596  -0.004934   1.162552   0.597998  -1.093007   \n",
       "4     -0.591253  -0.904773  -0.110500   0.892646   0.519372  -0.439661   \n",
       "...         ...        ...        ...        ...        ...        ...   \n",
       "4420   0.318197   0.621586   0.074918   1.175783   0.586050   1.098425   \n",
       "4421   0.219105   0.621586  -0.013054   0.937630   0.522455   1.699594   \n",
       "4422   0.164053   0.643643   0.054616   0.421633   0.549435   0.905597   \n",
       "4423   0.417290   1.327417   0.122287   0.302556   0.481985   1.285582   \n",
       "4424   1.055887   1.489169   0.095219   0.408402   0.507038  -0.183313   \n",
       "\n",
       "      var7(t-6)  var1(t-5)  var2(t-5)  var3(t-5)  ...   var8(t)      Temp  \\\n",
       "0         960.0  -0.036334  -0.913596   0.181837  ...     1_1_6  0.090097   \n",
       "1        1500.0  -0.353430  -0.913596   0.141235  ...     1_1_7  0.050698   \n",
       "2        2475.0  -0.485554  -0.913596  -0.004934  ...     1_1_8  0.024431   \n",
       "3        3045.0  -0.591253  -0.904773  -0.110500  ...     1_1_9 -0.054368   \n",
       "4        4515.0  -0.525191  -0.807722  -0.126741  ...    1_1_10 -0.120034   \n",
       "...         ...        ...        ...        ...  ...       ...       ...   \n",
       "4420     2790.0   0.219105   0.621586  -0.013054  ...  12_31_19   -0.2251   \n",
       "4421     3900.0   0.164053   0.643643   0.054616  ...  12_31_20 -0.251366   \n",
       "4422     2670.0   0.417290   1.327417   0.122287  ...  12_31_21 -0.264499   \n",
       "4423     9120.0   1.055887   1.489169   0.095219  ...  12_31_22 -0.317032   \n",
       "4424     4995.0   1.055887   1.445055   0.095219  ...  12_31_23 -0.277632   \n",
       "\n",
       "      Dew_Point_Temp   Rel_Hum  Wind_Dir  Wind_Spd  Visibility  Stn_Press  \\\n",
       "0            0.44685  1.066551  1.363452  1.724502    0.500385  -0.907114   \n",
       "1           0.360681  0.859373  1.363452  0.815838    0.500385  -0.624161   \n",
       "2           0.274513  0.721255  1.265486    0.9168    0.500385  -0.297676   \n",
       "3           0.151415  0.514077  1.461418  0.311024    0.500385  -0.014722   \n",
       "4           0.040626  0.306899  1.363452  1.118726    0.500385   0.061458   \n",
       "...              ...       ...       ...       ...         ...        ...   \n",
       "4420        0.016007  0.583136  0.481761  0.311024    0.500385  -1.799507   \n",
       "4421       -0.033233  0.514077  0.481761  0.210061    0.500385  -1.755975   \n",
       "4422       -0.070162  0.445017  0.579727  0.613912    0.500385  -1.745093   \n",
       "4423       -0.070162  0.583136  0.481761  0.008136    0.500385  -1.701561   \n",
       "4424       -0.045542  0.583136  0.677692  0.815838    0.500385  -1.679796   \n",
       "\n",
       "          Hmdx  Wind Chill  \n",
       "0    -1.877936   -0.462542  \n",
       "1    -1.877936   -0.462542  \n",
       "2    -1.877936   -0.462542  \n",
       "3    -1.877936   -0.462542  \n",
       "4    -1.877936    0.429985  \n",
       "...        ...         ...  \n",
       "4420 -0.685953    0.251479  \n",
       "4421 -0.685953    0.251479  \n",
       "4422 -0.685953    0.251479  \n",
       "4423 -0.685953    0.251479  \n",
       "4424 -0.685953    0.072974  \n",
       "\n",
       "[4425 rows x 59 columns]"
      ]
     },
     "execution_count": 114,
     "metadata": {},
     "output_type": "execute_result"
    }
   ],
   "source": [
    "new_data=df_merge.drop(columns=['combined'])\n",
    "new_data"
   ]
  },
  {
   "cell_type": "code",
   "execution_count": null,
   "metadata": {},
   "outputs": [],
   "source": []
  },
  {
   "cell_type": "code",
   "execution_count": null,
   "metadata": {},
   "outputs": [],
   "source": []
  },
  {
   "cell_type": "code",
   "execution_count": 115,
   "metadata": {},
   "outputs": [
    {
     "data": {
      "text/plain": [
       "((4425, 58), (4425, 15256))"
      ]
     },
     "execution_count": 115,
     "metadata": {},
     "output_type": "execute_result"
    }
   ],
   "source": [
    "y_auxHeat = new_data['var7(t)']\n",
    "y_auxHeat = to_categorical(y_auxHeat).astype(float)\n",
    "\n",
    "X = new_data.drop(labels = ['var7(t)'], axis = 1).astype(float)\n",
    "X.shape, y_auxHeat.shape"
   ]
  },
  {
   "cell_type": "code",
   "execution_count": 116,
   "metadata": {},
   "outputs": [],
   "source": [
    "def build_classifier(ac_func):\n",
    "\n",
    "    classifier = Sequential()\n",
    "\n",
    "    # Adding the input layer and the first hidden layer\n",
    "    classifier.add(Dense(units = 24, kernel_initializer = 'uniform', activation = ac_func, input_dim =58))\n",
    "\n",
    "    # Adding the second hidden layer\n",
    "    classifier.add(Dense(units = 24, kernel_initializer = 'uniform', activation = ac_func))\n",
    "\n",
    "    # Adding the output layer\n",
    "    classifier.add(Dense(units = 15256, kernel_initializer = 'uniform', activation = 'softmax'))\n",
    "\n",
    "    # Compiling the ANN\n",
    "    classifier.compile(optimizer = 'adam', loss = 'categorical_crossentropy', metrics = ['accuracy'])\n",
    "    \n",
    "    return classifier"
   ]
  },
  {
   "cell_type": "code",
   "execution_count": 117,
   "metadata": {},
   "outputs": [],
   "source": [
    "ac_funcs = ['relu', 'sigmoid', 'tanh']\n",
    "ac_funcs_score_time = []\n",
    "ac_funcs_acc = []\n",
    "ac_funcs_f1 = []"
   ]
  },
  {
   "cell_type": "code",
   "execution_count": 118,
   "metadata": {},
   "outputs": [],
   "source": [
    "X = X.astype(float)\n",
    "y_auxHeat = y_auxHeat.astype(float)"
   ]
  },
  {
   "cell_type": "code",
   "execution_count": 119,
   "metadata": {},
   "outputs": [],
   "source": [
    "classifier = KerasClassifier(build_fn = build_classifier,ac_func =ac_funcs[0],  batch_size = 64, nb_epoch = 50)"
   ]
  },
  {
   "cell_type": "code",
   "execution_count": 120,
   "metadata": {},
   "outputs": [
    {
     "name": "stdout",
     "output_type": "stream",
     "text": [
      "63/63 [==============================] - 1s 12ms/step - loss: 10.7899 - accuracy: 0.0025\n",
      "7/7 [==============================] - 0s 11ms/step - loss: 9.3756 - accuracy: 0.0000e+00\n",
      "63/63 [==============================] - 1s 12ms/step - loss: 11.7066 - accuracy: 0.0038\n",
      "7/7 [==============================] - 0s 9ms/step - loss: 10.2176 - accuracy: 0.0000e+00\n",
      "63/63 [==============================] - 1s 12ms/step - loss: 13.7912 - accuracy: 0.0025\n",
      "7/7 [==============================] - 0s 9ms/step - loss: 8.2499 - accuracy: 0.0000e+00\n",
      "63/63 [==============================] - 1s 13ms/step - loss: 12.3310 - accuracy: 0.0013\n",
      "7/7 [==============================] - 0s 9ms/step - loss: 7.8169 - accuracy: 0.0000e+00\n",
      "63/63 [==============================] - 1s 12ms/step - loss: 11.5039 - accuracy: 0.0013\n",
      "7/7 [==============================] - 0s 9ms/step - loss: 7.8290 - accuracy: 0.0045\n",
      "63/63 [==============================] - 1s 13ms/step - loss: 11.1283 - accuracy: 0.0018\n",
      "7/7 [==============================] - 0s 10ms/step - loss: 8.3500 - accuracy: 0.0023\n",
      "63/63 [==============================] - 1s 12ms/step - loss: 10.3453 - accuracy: 0.0013\n",
      "7/7 [==============================] - 0s 8ms/step - loss: 8.8222 - accuracy: 0.0000e+00\n",
      "63/63 [==============================] - 1s 12ms/step - loss: 10.2106 - accuracy: 0.0038\n",
      "7/7 [==============================] - 0s 9ms/step - loss: 8.2572 - accuracy: 0.0000e+00\n",
      "63/63 [==============================] - 1s 13ms/step - loss: 11.6547 - accuracy: 0.0025\n",
      "7/7 [==============================] - 0s 10ms/step - loss: 8.6370 - accuracy: 0.0023\n",
      "63/63 [==============================] - 1s 13ms/step - loss: 10.8081 - accuracy: 0.0035\n",
      "7/7 [==============================] - 0s 9ms/step - loss: 8.4579 - accuracy: 0.0000e+00\n"
     ]
    },
    {
     "data": {
      "text/plain": [
       "{'fit_time': array([2.2197938 , 2.21653676, 1.95874691, 1.98777819, 1.97162199,\n",
       "        1.9702971 , 2.00523496, 2.07729888, 2.00963616, 2.01727295]),\n",
       " 'score_time': array([0.32531309, 0.29626608, 0.33481598, 0.69633675, 0.31819201,\n",
       "        0.32110071, 0.30519199, 0.29832816, 0.34188914, 0.28309608]),\n",
       " 'test_score': array([0.        , 0.        , 0.        , 0.        , 0.00451467,\n",
       "        0.00226244, 0.        , 0.        , 0.00226244, 0.        ])}"
      ]
     },
     "execution_count": 120,
     "metadata": {},
     "output_type": "execute_result"
    }
   ],
   "source": [
    "classifier = KerasClassifier(build_fn = build_classifier,ac_func =ac_funcs[0],  batch_size = 64, nb_epoch = 50)\n",
    "scores = cross_validate(estimator = classifier, X = X, y = y_auxHeat, cv = 10)\n",
    "scores"
   ]
  },
  {
   "cell_type": "code",
   "execution_count": 121,
   "metadata": {},
   "outputs": [],
   "source": [
    "ac_funcs_score_time.append(scores['score_time'])\n",
    "ac_funcs_acc.append(scores['test_score'])"
   ]
  },
  {
   "cell_type": "code",
   "execution_count": 122,
   "metadata": {},
   "outputs": [
    {
     "name": "stdout",
     "output_type": "stream",
     "text": [
      "63/63 [==============================] - 1s 12ms/step - loss: 9.1782 - accuracy: 0.0010\n",
      "7/7 [==============================] - 0s 10ms/step - loss: 8.5527 - accuracy: 0.0000e+00\n",
      "63/63 [==============================] - 1s 13ms/step - loss: 9.1414 - accuracy: 0.0030\n",
      "7/7 [==============================] - 0s 11ms/step - loss: 8.6239 - accuracy: 0.0023\n",
      "63/63 [==============================] - 1s 12ms/step - loss: 9.1817 - accuracy: 0.0025\n",
      "7/7 [==============================] - 0s 8ms/step - loss: 8.4010 - accuracy: 0.0023\n",
      "63/63 [==============================] - 1s 12ms/step - loss: 9.2070 - accuracy: 0.0030\n",
      "7/7 [==============================] - 0s 8ms/step - loss: 8.4918 - accuracy: 0.0023\n",
      "63/63 [==============================] - 2s 13ms/step - loss: 9.1826 - accuracy: 0.0020\n",
      "7/7 [==============================] - 0s 9ms/step - loss: 8.3194 - accuracy: 0.0023\n",
      "63/63 [==============================] - 1s 13ms/step - loss: 9.1830 - accuracy: 0.0018\n",
      "7/7 [==============================] - 0s 9ms/step - loss: 8.3258 - accuracy: 0.0045\n",
      "63/63 [==============================] - 1s 11ms/step - loss: 9.1974 - accuracy: 0.0018\n",
      "7/7 [==============================] - 0s 10ms/step - loss: 8.3670 - accuracy: 0.0023\n",
      "63/63 [==============================] - 1s 12ms/step - loss: 9.1659 - accuracy: 0.0025\n",
      "7/7 [==============================] - 0s 9ms/step - loss: 8.3561 - accuracy: 0.0023\n",
      "63/63 [==============================] - 1s 12ms/step - loss: 9.1723 - accuracy: 0.0018\n",
      "7/7 [==============================] - 0s 9ms/step - loss: 8.4504 - accuracy: 0.0000e+00\n",
      "63/63 [==============================] - 1s 13ms/step - loss: 9.1663 - accuracy: 0.0015\n",
      "7/7 [==============================] - 0s 8ms/step - loss: 8.4347 - accuracy: 0.0045\n"
     ]
    },
    {
     "data": {
      "text/plain": [
       "{'fit_time': array([1.9914701 , 2.07712722, 1.98938179, 2.10510683, 2.57778788,\n",
       "        1.84653306, 1.73654604, 1.90888   , 1.96853113, 1.98636508]),\n",
       " 'score_time': array([0.30901003, 0.31147861, 0.33557296, 0.32128429, 0.30088711,\n",
       "        0.29992986, 0.30497408, 0.31371689, 0.34828091, 0.3182559 ]),\n",
       " 'test_score': array([0.        , 0.00225734, 0.00225734, 0.00225734, 0.00225734,\n",
       "        0.00452489, 0.00226244, 0.00226244, 0.        , 0.00452489])}"
      ]
     },
     "execution_count": 122,
     "metadata": {},
     "output_type": "execute_result"
    }
   ],
   "source": [
    "classifier = KerasClassifier(build_fn = build_classifier,ac_func =ac_funcs[1],  batch_size = 64, nb_epoch = 50)\n",
    "scores = cross_validate(estimator = classifier, X = X, y = y_auxHeat, cv = 10)\n",
    "scores"
   ]
  },
  {
   "cell_type": "code",
   "execution_count": 123,
   "metadata": {},
   "outputs": [],
   "source": [
    "ac_funcs_score_time.append(scores['score_time'])\n",
    "ac_funcs_acc.append(scores['test_score'])"
   ]
  },
  {
   "cell_type": "code",
   "execution_count": 124,
   "metadata": {},
   "outputs": [
    {
     "name": "stdout",
     "output_type": "stream",
     "text": [
      "63/63 [==============================] - 1s 12ms/step - loss: 9.1804 - accuracy: 0.0020\n",
      "7/7 [==============================] - 0s 9ms/step - loss: 8.2427 - accuracy: 0.0045\n",
      "63/63 [==============================] - 1s 13ms/step - loss: 9.1594 - accuracy: 0.0015\n",
      "7/7 [==============================] - 0s 9ms/step - loss: 8.5053 - accuracy: 0.0000e+00\n",
      "63/63 [==============================] - 1s 12ms/step - loss: 9.2059 - accuracy: 0.0013\n",
      "7/7 [==============================] - 0s 8ms/step - loss: 8.1421 - accuracy: 0.0000e+00\n",
      "63/63 [==============================] - 1s 12ms/step - loss: 9.2013 - accuracy: 0.0015\n",
      "7/7 [==============================] - 0s 9ms/step - loss: 8.1670 - accuracy: 0.0000e+00\n",
      "63/63 [==============================] - 1s 12ms/step - loss: 9.1959 - accuracy: 0.0018\n",
      "7/7 [==============================] - 0s 8ms/step - loss: 7.9985 - accuracy: 0.0045\n",
      "63/63 [==============================] - 1s 13ms/step - loss: 9.1353 - accuracy: 0.0018\n",
      "7/7 [==============================] - 0s 9ms/step - loss: 7.9260 - accuracy: 0.0045\n",
      "63/63 [==============================] - 2s 12ms/step - loss: 9.1710 - accuracy: 0.0028\n",
      "7/7 [==============================] - 0s 10ms/step - loss: 7.9593 - accuracy: 0.0090\n",
      "63/63 [==============================] - 1s 12ms/step - loss: 9.2045 - accuracy: 0.0015\n",
      "7/7 [==============================] - 0s 9ms/step - loss: 8.1479 - accuracy: 0.0000e+00\n",
      "63/63 [==============================] - 1s 13ms/step - loss: 9.1837 - accuracy: 0.0063\n",
      "7/7 [==============================] - 0s 9ms/step - loss: 8.2234 - accuracy: 0.0000e+00\n",
      "63/63 [==============================] - 1s 12ms/step - loss: 9.1956 - accuracy: 0.0025\n",
      "7/7 [==============================] - 0s 9ms/step - loss: 8.1653 - accuracy: 0.0000e+00\n"
     ]
    },
    {
     "data": {
      "text/plain": [
       "{'fit_time': array([1.97071123, 1.93375206, 1.88197684, 1.94148517, 2.05443096,\n",
       "        2.20287108, 2.67088103, 2.01433516, 2.04378295, 1.92083001]),\n",
       " 'score_time': array([0.29882407, 0.32027078, 0.29592705, 0.32982612, 0.31535578,\n",
       "        0.31251383, 0.3179152 , 0.35520482, 0.38340139, 0.36794901]),\n",
       " 'test_score': array([0.00451467, 0.        , 0.        , 0.        , 0.00451467,\n",
       "        0.00452489, 0.00904977, 0.        , 0.        , 0.        ])}"
      ]
     },
     "execution_count": 124,
     "metadata": {},
     "output_type": "execute_result"
    }
   ],
   "source": [
    "classifier = KerasClassifier(build_fn = build_classifier,ac_func =ac_funcs[2],  batch_size = 64, nb_epoch = 50)\n",
    "scores = cross_validate(estimator = classifier, X = X, y = y_auxHeat, cv = 10)\n",
    "scores"
   ]
  },
  {
   "cell_type": "code",
   "execution_count": 125,
   "metadata": {},
   "outputs": [],
   "source": [
    "ac_funcs_score_time.append(scores['score_time'])\n",
    "ac_funcs_acc.append(scores['test_score'])"
   ]
  },
  {
   "cell_type": "code",
   "execution_count": 126,
   "metadata": {},
   "outputs": [
    {
     "data": {
      "text/plain": [
       "[array([0.        , 0.        , 0.        , 0.        , 0.00451467,\n",
       "        0.00226244, 0.        , 0.        , 0.00226244, 0.        ]),\n",
       " array([0.        , 0.00225734, 0.00225734, 0.00225734, 0.00225734,\n",
       "        0.00452489, 0.00226244, 0.00226244, 0.        , 0.00452489]),\n",
       " array([0.00451467, 0.        , 0.        , 0.        , 0.00451467,\n",
       "        0.00452489, 0.00904977, 0.        , 0.        , 0.        ])]"
      ]
     },
     "execution_count": 126,
     "metadata": {},
     "output_type": "execute_result"
    }
   ],
   "source": [
    "ac_funcs_acc"
   ]
  },
  {
   "cell_type": "code",
   "execution_count": 127,
   "metadata": {},
   "outputs": [],
   "source": [
    "acc_df = pd.DataFrame(ac_funcs_acc)\n",
    "acc_df = acc_df.T"
   ]
  },
  {
   "cell_type": "code",
   "execution_count": 128,
   "metadata": {},
   "outputs": [],
   "source": [
    "acc_df = acc_df.rename(columns = {0:'ReLu', 1:'Sigmoid', 2:'Tanh'})"
   ]
  },
  {
   "cell_type": "code",
   "execution_count": 129,
   "metadata": {},
   "outputs": [
    {
     "data": {
      "text/html": [
       "<div>\n",
       "<style scoped>\n",
       "    .dataframe tbody tr th:only-of-type {\n",
       "        vertical-align: middle;\n",
       "    }\n",
       "\n",
       "    .dataframe tbody tr th {\n",
       "        vertical-align: top;\n",
       "    }\n",
       "\n",
       "    .dataframe thead th {\n",
       "        text-align: right;\n",
       "    }\n",
       "</style>\n",
       "<table border=\"1\" class=\"dataframe\">\n",
       "  <thead>\n",
       "    <tr style=\"text-align: right;\">\n",
       "      <th></th>\n",
       "      <th>ReLu</th>\n",
       "      <th>Sigmoid</th>\n",
       "      <th>Tanh</th>\n",
       "    </tr>\n",
       "  </thead>\n",
       "  <tbody>\n",
       "    <tr>\n",
       "      <th>0</th>\n",
       "      <td>0.000000</td>\n",
       "      <td>0.000000</td>\n",
       "      <td>0.004515</td>\n",
       "    </tr>\n",
       "    <tr>\n",
       "      <th>1</th>\n",
       "      <td>0.000000</td>\n",
       "      <td>0.002257</td>\n",
       "      <td>0.000000</td>\n",
       "    </tr>\n",
       "    <tr>\n",
       "      <th>2</th>\n",
       "      <td>0.000000</td>\n",
       "      <td>0.002257</td>\n",
       "      <td>0.000000</td>\n",
       "    </tr>\n",
       "    <tr>\n",
       "      <th>3</th>\n",
       "      <td>0.000000</td>\n",
       "      <td>0.002257</td>\n",
       "      <td>0.000000</td>\n",
       "    </tr>\n",
       "    <tr>\n",
       "      <th>4</th>\n",
       "      <td>0.004515</td>\n",
       "      <td>0.002257</td>\n",
       "      <td>0.004515</td>\n",
       "    </tr>\n",
       "    <tr>\n",
       "      <th>5</th>\n",
       "      <td>0.002262</td>\n",
       "      <td>0.004525</td>\n",
       "      <td>0.004525</td>\n",
       "    </tr>\n",
       "    <tr>\n",
       "      <th>6</th>\n",
       "      <td>0.000000</td>\n",
       "      <td>0.002262</td>\n",
       "      <td>0.009050</td>\n",
       "    </tr>\n",
       "    <tr>\n",
       "      <th>7</th>\n",
       "      <td>0.000000</td>\n",
       "      <td>0.002262</td>\n",
       "      <td>0.000000</td>\n",
       "    </tr>\n",
       "    <tr>\n",
       "      <th>8</th>\n",
       "      <td>0.002262</td>\n",
       "      <td>0.000000</td>\n",
       "      <td>0.000000</td>\n",
       "    </tr>\n",
       "    <tr>\n",
       "      <th>9</th>\n",
       "      <td>0.000000</td>\n",
       "      <td>0.004525</td>\n",
       "      <td>0.000000</td>\n",
       "    </tr>\n",
       "  </tbody>\n",
       "</table>\n",
       "</div>"
      ],
      "text/plain": [
       "       ReLu   Sigmoid      Tanh\n",
       "0  0.000000  0.000000  0.004515\n",
       "1  0.000000  0.002257  0.000000\n",
       "2  0.000000  0.002257  0.000000\n",
       "3  0.000000  0.002257  0.000000\n",
       "4  0.004515  0.002257  0.004515\n",
       "5  0.002262  0.004525  0.004525\n",
       "6  0.000000  0.002262  0.009050\n",
       "7  0.000000  0.002262  0.000000\n",
       "8  0.002262  0.000000  0.000000\n",
       "9  0.000000  0.004525  0.000000"
      ]
     },
     "execution_count": 129,
     "metadata": {},
     "output_type": "execute_result"
    }
   ],
   "source": [
    "acc_df"
   ]
  },
  {
   "cell_type": "code",
   "execution_count": 130,
   "metadata": {},
   "outputs": [
    {
     "data": {
      "image/png": "[encoded data removed]",
      "text/plain": [
       "<Figure size 864x720 with 1 Axes>"
      ]
     },
     "metadata": {
      "needs_background": "light"
     },
     "output_type": "display_data"
    }
   ],
   "source": [
    "plt.figure(figsize = (12, 10))\n",
    "ax = sns.boxplot(data = acc_df)\n",
    "ax.set(ylabel = \"Accuracy\", xlabel = \"Activation Function Used\")\n",
    "plt.savefig(\"12.png\")"
   ]
  },
  {
   "cell_type": "code",
   "execution_count": 131,
   "metadata": {},
   "outputs": [
    {
     "data": {
      "image/png": "[encoded data removed]",
      "text/plain": [
       "<Figure size 864x720 with 1 Axes>"
      ]
     },
     "metadata": {
      "needs_background": "light"
     },
     "output_type": "display_data"
    }
   ],
   "source": [
    "time_df = pd.DataFrame(ac_funcs_score_time)\n",
    "time_df = time_df.T\n",
    "\n",
    "time_df = time_df.rename(columns = {0:'ReLu', 1:'Sigmoid', 2:'Tanh'})\n",
    "\n",
    "plt.figure(figsize = (12, 10))\n",
    "ax = sns.boxplot(data = time_df)\n",
    "ax.set(ylabel = \"Time Taken for Prediction\", xlabel = \"Activation Function Used\")\n",
    "plt.savefig(\"14.png\")"
   ]
  },
  {
   "cell_type": "code",
   "execution_count": null,
   "metadata": {},
   "outputs": [],
   "source": []
  },
  {
   "cell_type": "code",
   "execution_count": null,
   "metadata": {},
   "outputs": [],
   "source": []
  },
  {
   "cell_type": "code",
   "execution_count": null,
   "metadata": {},
   "outputs": [],
   "source": []
  }
 ],
 "metadata": {
  "kernelspec": {
   "display_name": "Python 3",
   "language": "python",
   "name": "python3"
  },
  "language_info": {
   "codemirror_mode": {
    "name": "ipython",
    "version": 3
   },
   "file_extension": ".py",
   "mimetype": "text/x-python",
   "name": "python",
   "nbconvert_exporter": "python",
   "pygments_lexer": "ipython3",
   "version": "3.7.6"
  }
 },
 "nbformat": 4,
 "nbformat_minor": 4
}
